{
 "cells": [
  {
   "cell_type": "code",
   "execution_count": 2,
   "metadata": {},
   "outputs": [
    {
     "ename": "NameError",
     "evalue": "name 'FEAT_CLOS' is not defined",
     "output_type": "error",
     "traceback": [
      "\u001b[1;31m---------------------------------------------------------------------------\u001b[0m",
      "\u001b[1;31mNameError\u001b[0m                                 Traceback (most recent call last)",
      "\u001b[1;32m<ipython-input-2-3251a6924989>\u001b[0m in \u001b[0;36m<module>\u001b[1;34m\u001b[0m\n\u001b[0;32m     18\u001b[0m \u001b[0mdata\u001b[0m \u001b[1;33m=\u001b[0m \u001b[0mpd\u001b[0m\u001b[1;33m.\u001b[0m\u001b[0mread_csv\u001b[0m\u001b[1;33m(\u001b[0m\u001b[1;34mr\"D:\\BaiduNetdiskDownload\\美国King County房价预测训练赛\\kc_train_all.csv\"\u001b[0m\u001b[1;33m,\u001b[0m\u001b[0mheader\u001b[0m\u001b[1;33m=\u001b[0m\u001b[1;32mNone\u001b[0m\u001b[1;33m)\u001b[0m\u001b[1;33m\u001b[0m\u001b[1;33m\u001b[0m\u001b[0m\n\u001b[0;32m     19\u001b[0m \u001b[0mdata\u001b[0m\u001b[1;33m.\u001b[0m\u001b[0mcolumns\u001b[0m\u001b[1;33m=\u001b[0m \u001b[1;33m[\u001b[0m\u001b[1;34m'销售日期'\u001b[0m\u001b[1;33m,\u001b[0m\u001b[1;34m'销售价格'\u001b[0m\u001b[1;33m,\u001b[0m\u001b[1;34m'卧室数'\u001b[0m\u001b[1;33m,\u001b[0m\u001b[1;34m'浴室数'\u001b[0m\u001b[1;33m,\u001b[0m\u001b[1;34m'房屋面积'\u001b[0m\u001b[1;33m,\u001b[0m\u001b[1;34m'停车面积'\u001b[0m\u001b[1;33m,\u001b[0m\u001b[1;34m'楼层数'\u001b[0m\u001b[1;33m,\u001b[0m\u001b[1;34m'房屋评分'\u001b[0m\u001b[1;33m,\u001b[0m\u001b[1;34m'建筑面积'\u001b[0m\u001b[1;33m,\u001b[0m\u001b[1;34m'地下室面积'\u001b[0m\u001b[1;33m,\u001b[0m\u001b[1;34m'建筑年份'\u001b[0m\u001b[1;33m,\u001b[0m\u001b[1;34m'修复年份'\u001b[0m\u001b[1;33m,\u001b[0m\u001b[1;34m'纬度'\u001b[0m\u001b[1;33m,\u001b[0m\u001b[1;34m'经度'\u001b[0m\u001b[1;33m]\u001b[0m\u001b[1;33m\u001b[0m\u001b[1;33m\u001b[0m\u001b[0m\n\u001b[1;32m---> 20\u001b[1;33m \u001b[0mx\u001b[0m \u001b[1;33m=\u001b[0m \u001b[0mpd\u001b[0m\u001b[1;33m.\u001b[0m\u001b[0mDataFrame\u001b[0m\u001b[1;33m(\u001b[0m\u001b[0mdata\u001b[0m\u001b[1;33m,\u001b[0m\u001b[0mcolumns\u001b[0m\u001b[1;33m=\u001b[0m\u001b[0mFEAT_CLOS\u001b[0m\u001b[1;33m)\u001b[0m\u001b[1;33m\u001b[0m\u001b[1;33m\u001b[0m\u001b[0m\n\u001b[0m\u001b[0;32m     21\u001b[0m \u001b[0mz\u001b[0m \u001b[1;33m=\u001b[0m \u001b[0mx\u001b[0m\u001b[1;33m.\u001b[0m\u001b[0miloc\u001b[0m\u001b[1;33m[\u001b[0m\u001b[1;33m:\u001b[0m\u001b[1;33m,\u001b[0m\u001b[0mx\u001b[0m\u001b[1;33m.\u001b[0m\u001b[0mcolumns\u001b[0m \u001b[1;33m!=\u001b[0m \u001b[1;34m\"销售价格\"\u001b[0m\u001b[1;33m]\u001b[0m\u001b[1;31m#筛选出其他列即影响因素\u001b[0m\u001b[1;33m\u001b[0m\u001b[1;33m\u001b[0m\u001b[0m\n\u001b[0;32m     22\u001b[0m \u001b[0my\u001b[0m \u001b[1;33m=\u001b[0m \u001b[0mx\u001b[0m\u001b[1;33m.\u001b[0m\u001b[0miloc\u001b[0m\u001b[1;33m[\u001b[0m\u001b[1;33m:\u001b[0m\u001b[1;33m,\u001b[0m\u001b[1;36m1\u001b[0m\u001b[1;33m]\u001b[0m\u001b[1;31m#筛选出价格列 也就是目标值\u001b[0m\u001b[1;33m\u001b[0m\u001b[1;33m\u001b[0m\u001b[0m\n",
      "\u001b[1;31mNameError\u001b[0m: name 'FEAT_CLOS' is not defined"
     ]
    }
   ],
   "source": [
    "# 导入相关python库\n",
    "import os\n",
    "import numpy as np\n",
    "import pandas as pd\n",
    "\n",
    "#设定随机数种子\n",
    "np.random.seed(36)\n",
    "\n",
    "#使用matplotlib库画图\n",
    "import matplotlib\n",
    "import seaborn\n",
    "import matplotlib.pyplot as plot\n",
    "\n",
    "from sklearn import datasets\n",
    "\n",
    "\n",
    "#读取数据\n",
    "data = pd.read_csv(r\"D:\\BaiduNetdiskDownload\\美国King County房价预测训练赛\\kc_train_all.csv\",header=None)\n",
    "data.columns= ['销售日期','销售价格','卧室数','浴室数','房屋面积','停车面积','楼层数','房屋评分','建筑面积','地下室面积','建筑年份','修复年份','纬度','经度']\n",
    "x = pd.DataFrame(data,columns=FEAT_CLOS)\n",
    "z = x.iloc[:,x.columns != \"销售价格\"]#筛选出其他列即影响因素\n",
    "y = x.iloc[:,1]#筛选出价格列 也就是目标值\n",
    "target=x.iloc[:,1]  #销售价格\n",
    "t=pd.read_csv('kc_test.csv')         #测试数据\n",
    "\n",
    "#数据预处理\n",
    "housing.info()    #查看是否有缺失值\n",
    "\n",
    "#特征缩放\n",
    "from sklearn.preprocessing import MinMaxScaler\n",
    "minmax_scaler=MinMaxScaler()\n",
    "minmax_scaler.fit(housing)   #进行内部拟合，内部参数会发生变化\n",
    "scaler_housing=minmax_scaler.transform(housing)\n",
    "scaler_housing=pd.DataFrame(scaler_housing,columns=housing.columns)\n",
    "\n",
    "mm=MinMaxScaler()\n",
    "mm.fit(t)\n",
    "scaler_t=mm.transform(t)\n",
    "scaler_t=pd.DataFrame(scaler_t,columns=t.columns)\n",
    "\n",
    "\n",
    "\n",
    "#选择基于梯度下降的线性回归模型\n",
    "from sklearn.linear_model import LinearRegression\n",
    "LR_reg=LinearRegression()\n",
    "#进行拟合\n",
    "LR_reg.fit(scaler_housing,target)\n",
    "\n",
    "\n",
    "#使用均方误差用于评价模型好坏\n",
    "from sklearn.metrics import mean_squared_error\n",
    "preds=LR_reg.predict(scaler_housing)   #输入数据进行预测得到结果\n",
    "mse=mean_squared_error(preds,target)   #使用均方误差来评价模型好坏，可以输出mse进行查看评价值\n",
    "\n",
    "#绘图进行比较\n",
    "plot.figure(figsize=(10,7))       #画布大小\n",
    "num=100\n",
    "x=np.arange(1,num+1)              #取100个点进行比较\n",
    "plot.plot(x,target[:num],label='target')      #目标取值\n",
    "plot.plot(x,preds[:num],label='preds')        #预测取值\n",
    "plot.legend(loc='upper right')  #线条显示位置\n",
    "plot.show()"
   ]
  },
  {
   "cell_type": "code",
   "execution_count": null,
   "metadata": {},
   "outputs": [],
   "source": []
  }
 ],
 "metadata": {
  "kernelspec": {
   "display_name": "Python 3",
   "language": "python",
   "name": "python3"
  },
  "language_info": {
   "codemirror_mode": {
    "name": "ipython",
    "version": 3
   },
   "file_extension": ".py",
   "mimetype": "text/x-python",
   "name": "python",
   "nbconvert_exporter": "python",
   "pygments_lexer": "ipython3",
   "version": "3.7.6"
  }
 },
 "nbformat": 4,
 "nbformat_minor": 4
}
