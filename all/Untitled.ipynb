{
 "cells": [
  {
   "cell_type": "code",
   "execution_count": 1,
   "metadata": {},
   "outputs": [],
   "source": [
    "import numpy as np\n",
    "import pandas as pd\n",
    "import datetime as dt\n",
    "\n",
    "X_test = pd.DataFrame(np.array([\n",
    "   ['2020-01-24T00:00:00.000000000'],\n",
    "   ['2020-01-25T00:00:00.000000000'],\n",
    "   ['2020-01-26T00:00:00.000000000'],\n",
    "   ['2020-01-27T00:00:00.000000000'],\n",
    "   ['2020-01-28T00:00:00.000000000'],\n",
    "   ['2020-01-29T00:00:00.000000000'],\n",
    "   ['2020-01-30T00:00:00.000000000'],\n",
    "   ['2020-01-31T00:00:00.000000000'],\n",
    "   ['2020-02-01T00:00:00.000000000'],\n",
    "   ['2020-02-02T00:00:00.000000000']], dtype='datetime64[ns]'))"
   ]
  },
  {
   "cell_type": "code",
   "execution_count": 2,
   "metadata": {},
   "outputs": [],
   "source": [
    "X_test.columns = [\"Date\"]"
   ]
  },
  {
   "cell_type": "code",
   "execution_count": 3,
   "metadata": {},
   "outputs": [],
   "source": [
    "X_test['Date'] = pd.to_datetime(X_test['Date'])"
   ]
  },
  {
   "cell_type": "code",
   "execution_count": 4,
   "metadata": {},
   "outputs": [],
   "source": [
    "X_test['Date']=X_test['Date'].map(dt.datetime.toordinal)"
   ]
  },
  {
   "cell_type": "code",
   "execution_count": 5,
   "metadata": {},
   "outputs": [
    {
     "data": {
      "text/plain": [
       "0    737448\n",
       "1    737449\n",
       "2    737450\n",
       "3    737451\n",
       "4    737452\n",
       "5    737453\n",
       "6    737454\n",
       "7    737455\n",
       "8    737456\n",
       "9    737457\n",
       "Name: Date, dtype: int64"
      ]
     },
     "execution_count": 5,
     "metadata": {},
     "output_type": "execute_result"
    }
   ],
   "source": [
    "X_test['Date']"
   ]
  },
  {
   "cell_type": "code",
   "execution_count": null,
   "metadata": {},
   "outputs": [],
   "source": []
  }
 ],
 "metadata": {
  "kernelspec": {
   "display_name": "Python 3",
   "language": "python",
   "name": "python3"
  },
  "language_info": {
   "codemirror_mode": {
    "name": "ipython",
    "version": 3
   },
   "file_extension": ".py",
   "mimetype": "text/x-python",
   "name": "python",
   "nbconvert_exporter": "python",
   "pygments_lexer": "ipython3",
   "version": "3.7.6"
  }
 },
 "nbformat": 4,
 "nbformat_minor": 4
}
