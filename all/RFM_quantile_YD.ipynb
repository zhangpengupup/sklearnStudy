{
 "cells": [
  {
   "cell_type": "code",
   "execution_count": 3,
   "metadata": {},
   "outputs": [],
   "source": [
    "import os\n",
    "import numpy as np\n",
    "import pandas as pd\n",
    "import seaborn as sns\n",
    "import datetime as dt\n",
    "import matplotlib.pyplot as plt"
   ]
  },
  {
   "cell_type": "code",
   "execution_count": 4,
   "metadata": {},
   "outputs": [
    {
     "data": {
      "text/html": [
       "<div>\n",
       "<style scoped>\n",
       "    .dataframe tbody tr th:only-of-type {\n",
       "        vertical-align: middle;\n",
       "    }\n",
       "\n",
       "    .dataframe tbody tr th {\n",
       "        vertical-align: top;\n",
       "    }\n",
       "\n",
       "    .dataframe thead th {\n",
       "        text-align: right;\n",
       "    }\n",
       "</style>\n",
       "<table border=\"1\" class=\"dataframe\">\n",
       "  <thead>\n",
       "    <tr style=\"text-align: right;\">\n",
       "      <th></th>\n",
       "      <th>payment</th>\n",
       "      <th>trdtime</th>\n",
       "      <th>id</th>\n",
       "      <th>name</th>\n",
       "    </tr>\n",
       "  </thead>\n",
       "  <tbody>\n",
       "    <tr>\n",
       "      <th>0</th>\n",
       "      <td>1.0</td>\n",
       "      <td>2019-12-25 01:07:14</td>\n",
       "      <td>13</td>\n",
       "      <td>吕游</td>\n",
       "    </tr>\n",
       "    <tr>\n",
       "      <th>1</th>\n",
       "      <td>NaN</td>\n",
       "      <td>2019-12-30 07:39:22</td>\n",
       "      <td>13</td>\n",
       "      <td>吕游</td>\n",
       "    </tr>\n",
       "    <tr>\n",
       "      <th>2</th>\n",
       "      <td>48.5</td>\n",
       "      <td>2020-06-22 11:51:51</td>\n",
       "      <td>46</td>\n",
       "      <td>卢芬</td>\n",
       "    </tr>\n",
       "    <tr>\n",
       "      <th>3</th>\n",
       "      <td>16.5</td>\n",
       "      <td>2020-06-27 02:32:09</td>\n",
       "      <td>46</td>\n",
       "      <td>卢芬</td>\n",
       "    </tr>\n",
       "    <tr>\n",
       "      <th>4</th>\n",
       "      <td>221.4</td>\n",
       "      <td>2020-06-30 12:15:34</td>\n",
       "      <td>46</td>\n",
       "      <td>卢芬</td>\n",
       "    </tr>\n",
       "  </tbody>\n",
       "</table>\n",
       "</div>"
      ],
      "text/plain": [
       "   payment             trdtime  id name\n",
       "0      1.0 2019-12-25 01:07:14  13   吕游\n",
       "1      NaN 2019-12-30 07:39:22  13   吕游\n",
       "2     48.5 2020-06-22 11:51:51  46   卢芬\n",
       "3     16.5 2020-06-27 02:32:09  46   卢芬\n",
       "4    221.4 2020-06-30 12:15:34  46   卢芬"
      ]
     },
     "execution_count": 4,
     "metadata": {},
     "output_type": "execute_result"
    }
   ],
   "source": [
    "dataframe = pd.read_excel(r'G:\\traindata\\RFMtest\\tmp.xlsx')\n",
    "dataframe.head()"
   ]
  },
  {
   "cell_type": "code",
   "execution_count": 5,
   "metadata": {},
   "outputs": [
    {
     "name": "stdout",
     "output_type": "stream",
     "text": [
      "<class 'pandas.core.frame.DataFrame'>\n",
      "RangeIndex: 394 entries, 0 to 393\n",
      "Data columns (total 4 columns):\n",
      " #   Column   Non-Null Count  Dtype         \n",
      "---  ------   --------------  -----         \n",
      " 0   payment  390 non-null    float64       \n",
      " 1   trdtime  394 non-null    datetime64[ns]\n",
      " 2   id       394 non-null    int64         \n",
      " 3   name     393 non-null    object        \n",
      "dtypes: datetime64[ns](1), float64(1), int64(1), object(1)\n",
      "memory usage: 12.4+ KB\n"
     ]
    }
   ],
   "source": [
    "dataframe['trdtime'] = pd.to_datetime(dataframe['trdtime'])\n",
    "dataframe.info()"
   ]
  },
  {
   "cell_type": "code",
   "execution_count": 6,
   "metadata": {},
   "outputs": [
    {
     "data": {
      "text/plain": [
       "Timestamp('2019-12-25 01:07:14')"
      ]
     },
     "execution_count": 6,
     "metadata": {},
     "output_type": "execute_result"
    }
   ],
   "source": [
    "dataframe['trdtime'].min()"
   ]
  },
  {
   "cell_type": "code",
   "execution_count": 13,
   "metadata": {},
   "outputs": [
    {
     "data": {
      "text/plain": [
       "Timestamp('2020-08-25 04:45:54')"
      ]
     },
     "execution_count": 13,
     "metadata": {},
     "output_type": "execute_result"
    }
   ],
   "source": [
    "dataframe['trdtime'].max()"
   ]
  },
  {
   "cell_type": "code",
   "execution_count": 15,
   "metadata": {},
   "outputs": [
    {
     "data": {
      "text/plain": [
       "Timestamp('2020-08-26 04:45:54')"
      ]
     },
     "execution_count": 15,
     "metadata": {},
     "output_type": "execute_result"
    }
   ],
   "source": [
    "R_today_1 = dataframe['trdtime'].max()+ pd.DateOffset(days=1)\n",
    "R_today_1"
   ]
  },
  {
   "cell_type": "code",
   "execution_count": 122,
   "metadata": {},
   "outputs": [],
   "source": [
    "R_today = dt.datetime(2020,8,27)"
   ]
  },
  {
   "cell_type": "code",
   "execution_count": 123,
   "metadata": {},
   "outputs": [
    {
     "data": {
      "text/html": [
       "<div>\n",
       "<style scoped>\n",
       "    .dataframe tbody tr th:only-of-type {\n",
       "        vertical-align: middle;\n",
       "    }\n",
       "\n",
       "    .dataframe tbody tr th {\n",
       "        vertical-align: top;\n",
       "    }\n",
       "\n",
       "    .dataframe thead th {\n",
       "        text-align: right;\n",
       "    }\n",
       "</style>\n",
       "<table border=\"1\" class=\"dataframe\">\n",
       "  <thead>\n",
       "    <tr style=\"text-align: right;\">\n",
       "      <th></th>\n",
       "      <th>payment</th>\n",
       "      <th>trdtime</th>\n",
       "      <th>id</th>\n",
       "      <th>name</th>\n",
       "      <th>R_diff</th>\n",
       "    </tr>\n",
       "  </thead>\n",
       "  <tbody>\n",
       "    <tr>\n",
       "      <th>0</th>\n",
       "      <td>1.0</td>\n",
       "      <td>2019-12-25 01:07:14</td>\n",
       "      <td>13</td>\n",
       "      <td>吕游</td>\n",
       "      <td>245</td>\n",
       "    </tr>\n",
       "    <tr>\n",
       "      <th>1</th>\n",
       "      <td>NaN</td>\n",
       "      <td>2019-12-30 07:39:22</td>\n",
       "      <td>13</td>\n",
       "      <td>吕游</td>\n",
       "      <td>240</td>\n",
       "    </tr>\n",
       "    <tr>\n",
       "      <th>2</th>\n",
       "      <td>48.5</td>\n",
       "      <td>2020-06-22 11:51:51</td>\n",
       "      <td>46</td>\n",
       "      <td>卢芬</td>\n",
       "      <td>65</td>\n",
       "    </tr>\n",
       "    <tr>\n",
       "      <th>3</th>\n",
       "      <td>16.5</td>\n",
       "      <td>2020-06-27 02:32:09</td>\n",
       "      <td>46</td>\n",
       "      <td>卢芬</td>\n",
       "      <td>60</td>\n",
       "    </tr>\n",
       "    <tr>\n",
       "      <th>4</th>\n",
       "      <td>221.4</td>\n",
       "      <td>2020-06-30 12:15:34</td>\n",
       "      <td>46</td>\n",
       "      <td>卢芬</td>\n",
       "      <td>57</td>\n",
       "    </tr>\n",
       "  </tbody>\n",
       "</table>\n",
       "</div>"
      ],
      "text/plain": [
       "   payment             trdtime  id name  R_diff\n",
       "0      1.0 2019-12-25 01:07:14  13   吕游     245\n",
       "1      NaN 2019-12-30 07:39:22  13   吕游     240\n",
       "2     48.5 2020-06-22 11:51:51  46   卢芬      65\n",
       "3     16.5 2020-06-27 02:32:09  46   卢芬      60\n",
       "4    221.4 2020-06-30 12:15:34  46   卢芬      57"
      ]
     },
     "execution_count": 123,
     "metadata": {},
     "output_type": "execute_result"
    }
   ],
   "source": [
    "dataframe['R_diff'] = (R_today-dataframe['trdtime']).dt.days\n",
    "dataframe.head()"
   ]
  },
  {
   "cell_type": "code",
   "execution_count": 124,
   "metadata": {},
   "outputs": [
    {
     "data": {
      "text/plain": [
       "0      245\n",
       "1      240\n",
       "2       65\n",
       "3       60\n",
       "4       57\n",
       "      ... \n",
       "389      2\n",
       "390      2\n",
       "391      2\n",
       "392      2\n",
       "393      1\n",
       "Name: R_diff, Length: 373, dtype: int64"
      ]
     },
     "execution_count": 124,
     "metadata": {},
     "output_type": "execute_result"
    }
   ],
   "source": [
    "R = dataframe.groupby(by = ['id'])['R_diff']\n",
    "R.head()"
   ]
  },
  {
   "cell_type": "code",
   "execution_count": 125,
   "metadata": {},
   "outputs": [
    {
     "data": {
      "text/html": [
       "<div>\n",
       "<style scoped>\n",
       "    .dataframe tbody tr th:only-of-type {\n",
       "        vertical-align: middle;\n",
       "    }\n",
       "\n",
       "    .dataframe tbody tr th {\n",
       "        vertical-align: top;\n",
       "    }\n",
       "\n",
       "    .dataframe thead th {\n",
       "        text-align: right;\n",
       "    }\n",
       "</style>\n",
       "<table border=\"1\" class=\"dataframe\">\n",
       "  <thead>\n",
       "    <tr style=\"text-align: right;\">\n",
       "      <th></th>\n",
       "      <th>R_diff</th>\n",
       "    </tr>\n",
       "    <tr>\n",
       "      <th>id</th>\n",
       "      <th></th>\n",
       "    </tr>\n",
       "  </thead>\n",
       "  <tbody>\n",
       "    <tr>\n",
       "      <th>13</th>\n",
       "      <td>240</td>\n",
       "    </tr>\n",
       "    <tr>\n",
       "      <th>46</th>\n",
       "      <td>38</td>\n",
       "    </tr>\n",
       "    <tr>\n",
       "      <th>48</th>\n",
       "      <td>13</td>\n",
       "    </tr>\n",
       "    <tr>\n",
       "      <th>51</th>\n",
       "      <td>18</td>\n",
       "    </tr>\n",
       "    <tr>\n",
       "      <th>82</th>\n",
       "      <td>239</td>\n",
       "    </tr>\n",
       "  </tbody>\n",
       "</table>\n",
       "</div>"
      ],
      "text/plain": [
       "    R_diff\n",
       "id        \n",
       "13     240\n",
       "46      38\n",
       "48      13\n",
       "51      18\n",
       "82     239"
      ]
     },
     "execution_count": 125,
     "metadata": {},
     "output_type": "execute_result"
    }
   ],
   "source": [
    "R = R.agg([('R_diff','min')])"
   ]
  },
  {
   "cell_type": "code",
   "execution_count": 126,
   "metadata": {},
   "outputs": [],
   "source": [
    "F = dataframe.groupby(by = ['id'])['id'].agg([('F_fre','count')])"
   ]
  },
  {
   "cell_type": "code",
   "execution_count": 127,
   "metadata": {},
   "outputs": [
    {
     "name": "stdout",
     "output_type": "stream",
     "text": [
      "<class 'pandas.core.frame.DataFrame'>\n",
      "Int64Index: 262 entries, 13 to 514\n",
      "Data columns (total 3 columns):\n",
      " #   Column  Non-Null Count  Dtype  \n",
      "---  ------  --------------  -----  \n",
      " 0   R_diff  262 non-null    int64  \n",
      " 1   F_fre   262 non-null    int64  \n",
      " 2   M_sum   262 non-null    float64\n",
      "dtypes: float64(1), int64(2)\n",
      "memory usage: 18.2 KB\n"
     ]
    }
   ],
   "source": [
    "M = dataframe.groupby(by = ['id'])['payment'].agg([('M_sum',sum)])\n",
    "RFM = R.join(F).join(M)\n",
    "RFM.info()"
   ]
  },
  {
   "cell_type": "code",
   "execution_count": 128,
   "metadata": {},
   "outputs": [
    {
     "data": {
      "text/html": [
       "<div>\n",
       "<style scoped>\n",
       "    .dataframe tbody tr th:only-of-type {\n",
       "        vertical-align: middle;\n",
       "    }\n",
       "\n",
       "    .dataframe tbody tr th {\n",
       "        vertical-align: top;\n",
       "    }\n",
       "\n",
       "    .dataframe thead th {\n",
       "        text-align: right;\n",
       "    }\n",
       "</style>\n",
       "<table border=\"1\" class=\"dataframe\">\n",
       "  <thead>\n",
       "    <tr style=\"text-align: right;\">\n",
       "      <th></th>\n",
       "      <th>R_diff</th>\n",
       "      <th>F_fre</th>\n",
       "      <th>M_sum</th>\n",
       "    </tr>\n",
       "    <tr>\n",
       "      <th>id</th>\n",
       "      <th></th>\n",
       "      <th></th>\n",
       "      <th></th>\n",
       "    </tr>\n",
       "  </thead>\n",
       "  <tbody>\n",
       "    <tr>\n",
       "      <th>13</th>\n",
       "      <td>240</td>\n",
       "      <td>2</td>\n",
       "      <td>1.0</td>\n",
       "    </tr>\n",
       "    <tr>\n",
       "      <th>46</th>\n",
       "      <td>38</td>\n",
       "      <td>5</td>\n",
       "      <td>347.4</td>\n",
       "    </tr>\n",
       "    <tr>\n",
       "      <th>48</th>\n",
       "      <td>13</td>\n",
       "      <td>4</td>\n",
       "      <td>170.6</td>\n",
       "    </tr>\n",
       "    <tr>\n",
       "      <th>51</th>\n",
       "      <td>18</td>\n",
       "      <td>7</td>\n",
       "      <td>606.3</td>\n",
       "    </tr>\n",
       "    <tr>\n",
       "      <th>82</th>\n",
       "      <td>239</td>\n",
       "      <td>4</td>\n",
       "      <td>1.0</td>\n",
       "    </tr>\n",
       "  </tbody>\n",
       "</table>\n",
       "</div>"
      ],
      "text/plain": [
       "    R_diff  F_fre  M_sum\n",
       "id                      \n",
       "13     240      2    1.0\n",
       "46      38      5  347.4\n",
       "48      13      4  170.6\n",
       "51      18      7  606.3\n",
       "82     239      4    1.0"
      ]
     },
     "execution_count": 128,
     "metadata": {},
     "output_type": "execute_result"
    }
   ],
   "source": [
    "RFM.head()"
   ]
  },
  {
   "cell_type": "code",
   "execution_count": 129,
   "metadata": {},
   "outputs": [
    {
     "data": {
      "text/html": [
       "<div>\n",
       "<style scoped>\n",
       "    .dataframe tbody tr th:only-of-type {\n",
       "        vertical-align: middle;\n",
       "    }\n",
       "\n",
       "    .dataframe tbody tr th {\n",
       "        vertical-align: top;\n",
       "    }\n",
       "\n",
       "    .dataframe thead th {\n",
       "        text-align: right;\n",
       "    }\n",
       "</style>\n",
       "<table border=\"1\" class=\"dataframe\">\n",
       "  <thead>\n",
       "    <tr style=\"text-align: right;\">\n",
       "      <th></th>\n",
       "      <th>R_diff</th>\n",
       "      <th>F_fre</th>\n",
       "      <th>M_sum</th>\n",
       "      <th>R</th>\n",
       "      <th>F</th>\n",
       "      <th>M</th>\n",
       "    </tr>\n",
       "    <tr>\n",
       "      <th>id</th>\n",
       "      <th></th>\n",
       "      <th></th>\n",
       "      <th></th>\n",
       "      <th></th>\n",
       "      <th></th>\n",
       "      <th></th>\n",
       "    </tr>\n",
       "  </thead>\n",
       "  <tbody>\n",
       "    <tr>\n",
       "      <th>13</th>\n",
       "      <td>240</td>\n",
       "      <td>2</td>\n",
       "      <td>1.0</td>\n",
       "      <td>3</td>\n",
       "      <td>2</td>\n",
       "      <td>1</td>\n",
       "    </tr>\n",
       "    <tr>\n",
       "      <th>46</th>\n",
       "      <td>38</td>\n",
       "      <td>5</td>\n",
       "      <td>347.4</td>\n",
       "      <td>5</td>\n",
       "      <td>5</td>\n",
       "      <td>4</td>\n",
       "    </tr>\n",
       "    <tr>\n",
       "      <th>48</th>\n",
       "      <td>13</td>\n",
       "      <td>4</td>\n",
       "      <td>170.6</td>\n",
       "      <td>5</td>\n",
       "      <td>4</td>\n",
       "      <td>3</td>\n",
       "    </tr>\n",
       "    <tr>\n",
       "      <th>51</th>\n",
       "      <td>18</td>\n",
       "      <td>7</td>\n",
       "      <td>606.3</td>\n",
       "      <td>5</td>\n",
       "      <td>5</td>\n",
       "      <td>5</td>\n",
       "    </tr>\n",
       "    <tr>\n",
       "      <th>82</th>\n",
       "      <td>239</td>\n",
       "      <td>4</td>\n",
       "      <td>1.0</td>\n",
       "      <td>3</td>\n",
       "      <td>4</td>\n",
       "      <td>1</td>\n",
       "    </tr>\n",
       "  </tbody>\n",
       "</table>\n",
       "</div>"
      ],
      "text/plain": [
       "    R_diff  F_fre  M_sum  R  F  M\n",
       "id                               \n",
       "13     240      2    1.0  3  2  1\n",
       "46      38      5  347.4  5  5  4\n",
       "48      13      4  170.6  5  4  3\n",
       "51      18      7  606.3  5  5  5\n",
       "82     239      4    1.0  3  4  1"
      ]
     },
     "execution_count": 129,
     "metadata": {},
     "output_type": "execute_result"
    }
   ],
   "source": [
    "RFM[\"R\"]=np.where(RFM.R_diff<90,5,np.where(RFM.R_diff<=180,4,np.where(RFM.R_diff<=270,3,np.where(RFM.R_diff<=360,2,1))))\n",
    "\n",
    "RFM[\"F\"]=np.where(RFM.F_fre==1,1,np.where(RFM.F_fre==2,2,np.where(RFM.F_fre==3,3,np.where(RFM.F_fre==4,4,5))))\n",
    "                  \n",
    "RFM[\"M\"]=np.where(RFM.M_sum<50,1,np.where(RFM.M_sum<=100,2,np.where(RFM.M_sum<=200,3,np.where(RFM.M_sum<=500,4,5))))\n",
    "                  \n",
    "RFM.head()"
   ]
  },
  {
   "cell_type": "code",
   "execution_count": 130,
   "metadata": {},
   "outputs": [
    {
     "data": {
      "text/html": [
       "<div>\n",
       "<style scoped>\n",
       "    .dataframe tbody tr th:only-of-type {\n",
       "        vertical-align: middle;\n",
       "    }\n",
       "\n",
       "    .dataframe tbody tr th {\n",
       "        vertical-align: top;\n",
       "    }\n",
       "\n",
       "    .dataframe thead th {\n",
       "        text-align: right;\n",
       "    }\n",
       "</style>\n",
       "<table border=\"1\" class=\"dataframe\">\n",
       "  <thead>\n",
       "    <tr style=\"text-align: right;\">\n",
       "      <th></th>\n",
       "      <th>R_diff</th>\n",
       "      <th>F_fre</th>\n",
       "      <th>M_sum</th>\n",
       "      <th>R</th>\n",
       "      <th>F</th>\n",
       "      <th>M</th>\n",
       "    </tr>\n",
       "  </thead>\n",
       "  <tbody>\n",
       "    <tr>\n",
       "      <th>count</th>\n",
       "      <td>262.000000</td>\n",
       "      <td>262.000000</td>\n",
       "      <td>262.000000</td>\n",
       "      <td>262.000000</td>\n",
       "      <td>262.000000</td>\n",
       "      <td>262.00000</td>\n",
       "    </tr>\n",
       "    <tr>\n",
       "      <th>mean</th>\n",
       "      <td>29.015267</td>\n",
       "      <td>1.503817</td>\n",
       "      <td>72.784733</td>\n",
       "      <td>4.980916</td>\n",
       "      <td>1.423664</td>\n",
       "      <td>1.69084</td>\n",
       "    </tr>\n",
       "    <tr>\n",
       "      <th>std</th>\n",
       "      <td>24.710891</td>\n",
       "      <td>1.352585</td>\n",
       "      <td>97.306767</td>\n",
       "      <td>0.184708</td>\n",
       "      <td>0.926356</td>\n",
       "      <td>0.96283</td>\n",
       "    </tr>\n",
       "    <tr>\n",
       "      <th>min</th>\n",
       "      <td>1.000000</td>\n",
       "      <td>1.000000</td>\n",
       "      <td>1.000000</td>\n",
       "      <td>3.000000</td>\n",
       "      <td>1.000000</td>\n",
       "      <td>1.00000</td>\n",
       "    </tr>\n",
       "    <tr>\n",
       "      <th>25%</th>\n",
       "      <td>18.000000</td>\n",
       "      <td>1.000000</td>\n",
       "      <td>24.350000</td>\n",
       "      <td>5.000000</td>\n",
       "      <td>1.000000</td>\n",
       "      <td>1.00000</td>\n",
       "    </tr>\n",
       "    <tr>\n",
       "      <th>50%</th>\n",
       "      <td>26.000000</td>\n",
       "      <td>1.000000</td>\n",
       "      <td>42.950000</td>\n",
       "      <td>5.000000</td>\n",
       "      <td>1.000000</td>\n",
       "      <td>1.00000</td>\n",
       "    </tr>\n",
       "    <tr>\n",
       "      <th>75%</th>\n",
       "      <td>34.000000</td>\n",
       "      <td>1.000000</td>\n",
       "      <td>79.400000</td>\n",
       "      <td>5.000000</td>\n",
       "      <td>1.000000</td>\n",
       "      <td>2.00000</td>\n",
       "    </tr>\n",
       "    <tr>\n",
       "      <th>max</th>\n",
       "      <td>240.000000</td>\n",
       "      <td>14.000000</td>\n",
       "      <td>964.700000</td>\n",
       "      <td>5.000000</td>\n",
       "      <td>5.000000</td>\n",
       "      <td>5.00000</td>\n",
       "    </tr>\n",
       "  </tbody>\n",
       "</table>\n",
       "</div>"
      ],
      "text/plain": [
       "           R_diff       F_fre       M_sum           R           F          M\n",
       "count  262.000000  262.000000  262.000000  262.000000  262.000000  262.00000\n",
       "mean    29.015267    1.503817   72.784733    4.980916    1.423664    1.69084\n",
       "std     24.710891    1.352585   97.306767    0.184708    0.926356    0.96283\n",
       "min      1.000000    1.000000    1.000000    3.000000    1.000000    1.00000\n",
       "25%     18.000000    1.000000   24.350000    5.000000    1.000000    1.00000\n",
       "50%     26.000000    1.000000   42.950000    5.000000    1.000000    1.00000\n",
       "75%     34.000000    1.000000   79.400000    5.000000    1.000000    2.00000\n",
       "max    240.000000   14.000000  964.700000    5.000000    5.000000    5.00000"
      ]
     },
     "execution_count": 130,
     "metadata": {},
     "output_type": "execute_result"
    }
   ],
   "source": [
    "RFM.describe()"
   ]
  },
  {
   "cell_type": "code",
   "execution_count": null,
   "metadata": {},
   "outputs": [],
   "source": []
  },
  {
   "cell_type": "code",
   "execution_count": 131,
   "metadata": {},
   "outputs": [],
   "source": [
    "# bins = RFM['R_diff'].quantile(q = np.linspace(0,1,6),interpolation = 'nearest')\n",
    "# bins[0] = 0\n",
    "# labels =  [5,4,3,2,1]\n",
    "# R = pd.cut(RFM['R_diff'],bins,labels = labels)\n",
    "\n",
    "# bins = [1,2,5,8,200]\n",
    "# labels = np.arange(1,5)\n",
    "# F = pd.cut(RFM['F_fre'], bins=bins, labels=labels,include_lowest=True)\n",
    "\n",
    "# bins = RFM['M_sum'].quantile(q = np.linspace(0,1,6),interpolation = 'nearest')\n",
    "# bins[0] = 0\n",
    "# labels = [1,2,3,4,5]\n",
    "# M = pd.cut(RFM['M_sum'],bins,labels = labels)\n",
    "\n",
    "# RFM['R'] = R\n",
    "# RFM['F'] = F\n",
    "# RFM['M'] = M\n",
    "# RFM.head()"
   ]
  },
  {
   "cell_type": "code",
   "execution_count": 132,
   "metadata": {},
   "outputs": [
    {
     "data": {
      "text/html": [
       "<div>\n",
       "<style scoped>\n",
       "    .dataframe tbody tr th:only-of-type {\n",
       "        vertical-align: middle;\n",
       "    }\n",
       "\n",
       "    .dataframe tbody tr th {\n",
       "        vertical-align: top;\n",
       "    }\n",
       "\n",
       "    .dataframe thead th {\n",
       "        text-align: right;\n",
       "    }\n",
       "</style>\n",
       "<table border=\"1\" class=\"dataframe\">\n",
       "  <thead>\n",
       "    <tr style=\"text-align: right;\">\n",
       "      <th></th>\n",
       "      <th>R_diff</th>\n",
       "      <th>F_fre</th>\n",
       "      <th>M_sum</th>\n",
       "      <th>R</th>\n",
       "      <th>F</th>\n",
       "      <th>M</th>\n",
       "    </tr>\n",
       "  </thead>\n",
       "  <tbody>\n",
       "    <tr>\n",
       "      <th>count</th>\n",
       "      <td>262.000000</td>\n",
       "      <td>262.000000</td>\n",
       "      <td>262.000000</td>\n",
       "      <td>262.000000</td>\n",
       "      <td>262.000000</td>\n",
       "      <td>262.00000</td>\n",
       "    </tr>\n",
       "    <tr>\n",
       "      <th>mean</th>\n",
       "      <td>29.015267</td>\n",
       "      <td>1.503817</td>\n",
       "      <td>72.784733</td>\n",
       "      <td>4.980916</td>\n",
       "      <td>1.423664</td>\n",
       "      <td>1.69084</td>\n",
       "    </tr>\n",
       "    <tr>\n",
       "      <th>std</th>\n",
       "      <td>24.710891</td>\n",
       "      <td>1.352585</td>\n",
       "      <td>97.306767</td>\n",
       "      <td>0.184708</td>\n",
       "      <td>0.926356</td>\n",
       "      <td>0.96283</td>\n",
       "    </tr>\n",
       "    <tr>\n",
       "      <th>min</th>\n",
       "      <td>1.000000</td>\n",
       "      <td>1.000000</td>\n",
       "      <td>1.000000</td>\n",
       "      <td>3.000000</td>\n",
       "      <td>1.000000</td>\n",
       "      <td>1.00000</td>\n",
       "    </tr>\n",
       "    <tr>\n",
       "      <th>25%</th>\n",
       "      <td>18.000000</td>\n",
       "      <td>1.000000</td>\n",
       "      <td>24.350000</td>\n",
       "      <td>5.000000</td>\n",
       "      <td>1.000000</td>\n",
       "      <td>1.00000</td>\n",
       "    </tr>\n",
       "    <tr>\n",
       "      <th>50%</th>\n",
       "      <td>26.000000</td>\n",
       "      <td>1.000000</td>\n",
       "      <td>42.950000</td>\n",
       "      <td>5.000000</td>\n",
       "      <td>1.000000</td>\n",
       "      <td>1.00000</td>\n",
       "    </tr>\n",
       "    <tr>\n",
       "      <th>75%</th>\n",
       "      <td>34.000000</td>\n",
       "      <td>1.000000</td>\n",
       "      <td>79.400000</td>\n",
       "      <td>5.000000</td>\n",
       "      <td>1.000000</td>\n",
       "      <td>2.00000</td>\n",
       "    </tr>\n",
       "    <tr>\n",
       "      <th>max</th>\n",
       "      <td>240.000000</td>\n",
       "      <td>14.000000</td>\n",
       "      <td>964.700000</td>\n",
       "      <td>5.000000</td>\n",
       "      <td>5.000000</td>\n",
       "      <td>5.00000</td>\n",
       "    </tr>\n",
       "  </tbody>\n",
       "</table>\n",
       "</div>"
      ],
      "text/plain": [
       "           R_diff       F_fre       M_sum           R           F          M\n",
       "count  262.000000  262.000000  262.000000  262.000000  262.000000  262.00000\n",
       "mean    29.015267    1.503817   72.784733    4.980916    1.423664    1.69084\n",
       "std     24.710891    1.352585   97.306767    0.184708    0.926356    0.96283\n",
       "min      1.000000    1.000000    1.000000    3.000000    1.000000    1.00000\n",
       "25%     18.000000    1.000000   24.350000    5.000000    1.000000    1.00000\n",
       "50%     26.000000    1.000000   42.950000    5.000000    1.000000    1.00000\n",
       "75%     34.000000    1.000000   79.400000    5.000000    1.000000    2.00000\n",
       "max    240.000000   14.000000  964.700000    5.000000    5.000000    5.00000"
      ]
     },
     "execution_count": 132,
     "metadata": {},
     "output_type": "execute_result"
    }
   ],
   "source": [
    "RFM.describe()"
   ]
  },
  {
   "cell_type": "code",
   "execution_count": 133,
   "metadata": {},
   "outputs": [],
   "source": [
    "RFM_TEST = RFM.copy()"
   ]
  },
  {
   "cell_type": "code",
   "execution_count": 134,
   "metadata": {},
   "outputs": [],
   "source": [
    "cluster=[]\n",
    "for i in range(len(RFM_TEST)):\n",
    "    if RFM_TEST.iloc[i,3] >= 3 and RFM_TEST.iloc[i,4] >=3 and RFM_TEST.iloc[i,5] >=3:\n",
    "        cluster.append('重要价值客户')\n",
    "    elif RFM_TEST.iloc[i,3] < 3 and RFM_TEST.iloc[i,4] >= 3 and RFM_TEST.iloc[i,5] >=3:\n",
    "        cluster.append('重要保持客户')\n",
    "    elif RFM_TEST.iloc[i,3] >= 3 and RFM_TEST.iloc[i,4] < 3 and RFM_TEST.iloc[i,5] >=3:\n",
    "        cluster.append('重要发展客户')\n",
    "    elif RFM_TEST.iloc[i,3] < 3 and RFM_TEST.iloc[i,4] < 3 and RFM_TEST.iloc[i,5] >= 3:\n",
    "        cluster.append('重要挽留客户')\n",
    "    elif RFM_TEST.iloc[i,3] >= 3 and RFM_TEST.iloc[i,4] >= 3 and RFM_TEST.iloc[i,5] < 3:\n",
    "        cluster.append('一般价值客户')\n",
    "    elif RFM_TEST.iloc[i,3] < 3 and RFM_TEST.iloc[i,4] >= 3 and RFM_TEST.iloc[i,5] < 3:\n",
    "        cluster.append('一般保持客户')\n",
    "    elif RFM_TEST.iloc[i,3] >= 3 and RFM_TEST.iloc[i,4] < 3 and RFM_TEST.iloc[i,5] < 3:\n",
    "        cluster.append('一般发展客户')\n",
    "    else:\n",
    "        cluster.append('一般挽留客户')\n",
    "RFM_TEST['type'] = cluster"
   ]
  },
  {
   "cell_type": "code",
   "execution_count": 135,
   "metadata": {},
   "outputs": [],
   "source": [
    "RFM_TEST = RFM_TEST.reset_index()"
   ]
  },
  {
   "cell_type": "code",
   "execution_count": 136,
   "metadata": {},
   "outputs": [
    {
     "data": {
      "text/html": [
       "<div>\n",
       "<style scoped>\n",
       "    .dataframe tbody tr th:only-of-type {\n",
       "        vertical-align: middle;\n",
       "    }\n",
       "\n",
       "    .dataframe tbody tr th {\n",
       "        vertical-align: top;\n",
       "    }\n",
       "\n",
       "    .dataframe thead th {\n",
       "        text-align: right;\n",
       "    }\n",
       "</style>\n",
       "<table border=\"1\" class=\"dataframe\">\n",
       "  <thead>\n",
       "    <tr style=\"text-align: right;\">\n",
       "      <th></th>\n",
       "      <th>id</th>\n",
       "      <th>R_diff</th>\n",
       "      <th>F_fre</th>\n",
       "      <th>M_sum</th>\n",
       "      <th>R</th>\n",
       "      <th>F</th>\n",
       "      <th>M</th>\n",
       "      <th>type</th>\n",
       "    </tr>\n",
       "  </thead>\n",
       "  <tbody>\n",
       "    <tr>\n",
       "      <th>0</th>\n",
       "      <td>13</td>\n",
       "      <td>240</td>\n",
       "      <td>2</td>\n",
       "      <td>1.0</td>\n",
       "      <td>3</td>\n",
       "      <td>2</td>\n",
       "      <td>1</td>\n",
       "      <td>一般发展客户</td>\n",
       "    </tr>\n",
       "    <tr>\n",
       "      <th>1</th>\n",
       "      <td>46</td>\n",
       "      <td>38</td>\n",
       "      <td>5</td>\n",
       "      <td>347.4</td>\n",
       "      <td>5</td>\n",
       "      <td>5</td>\n",
       "      <td>4</td>\n",
       "      <td>重要价值客户</td>\n",
       "    </tr>\n",
       "    <tr>\n",
       "      <th>2</th>\n",
       "      <td>48</td>\n",
       "      <td>13</td>\n",
       "      <td>4</td>\n",
       "      <td>170.6</td>\n",
       "      <td>5</td>\n",
       "      <td>4</td>\n",
       "      <td>3</td>\n",
       "      <td>重要价值客户</td>\n",
       "    </tr>\n",
       "    <tr>\n",
       "      <th>3</th>\n",
       "      <td>51</td>\n",
       "      <td>18</td>\n",
       "      <td>7</td>\n",
       "      <td>606.3</td>\n",
       "      <td>5</td>\n",
       "      <td>5</td>\n",
       "      <td>5</td>\n",
       "      <td>重要价值客户</td>\n",
       "    </tr>\n",
       "    <tr>\n",
       "      <th>4</th>\n",
       "      <td>82</td>\n",
       "      <td>239</td>\n",
       "      <td>4</td>\n",
       "      <td>1.0</td>\n",
       "      <td>3</td>\n",
       "      <td>4</td>\n",
       "      <td>1</td>\n",
       "      <td>一般价值客户</td>\n",
       "    </tr>\n",
       "  </tbody>\n",
       "</table>\n",
       "</div>"
      ],
      "text/plain": [
       "   id  R_diff  F_fre  M_sum  R  F  M    type\n",
       "0  13     240      2    1.0  3  2  1  一般发展客户\n",
       "1  46      38      5  347.4  5  5  4  重要价值客户\n",
       "2  48      13      4  170.6  5  4  3  重要价值客户\n",
       "3  51      18      7  606.3  5  5  5  重要价值客户\n",
       "4  82     239      4    1.0  3  4  1  一般价值客户"
      ]
     },
     "execution_count": 136,
     "metadata": {},
     "output_type": "execute_result"
    }
   ],
   "source": [
    "RFM_TEST.head()"
   ]
  },
  {
   "cell_type": "code",
   "execution_count": 1,
   "metadata": {},
   "outputs": [
    {
     "ename": "NameError",
     "evalue": "name 'RFM_TEST' is not defined",
     "output_type": "error",
     "traceback": [
      "\u001b[1;31m---------------------------------------------------------------------------\u001b[0m",
      "\u001b[1;31mNameError\u001b[0m                                 Traceback (most recent call last)",
      "\u001b[1;32m<ipython-input-1-a89e1a246fea>\u001b[0m in \u001b[0;36m<module>\u001b[1;34m\u001b[0m\n\u001b[1;32m----> 1\u001b[1;33m \u001b[0mresult\u001b[0m \u001b[1;33m=\u001b[0m \u001b[0mRFM_TEST\u001b[0m\u001b[1;33m[\u001b[0m\u001b[1;33m[\u001b[0m\u001b[1;34m'id'\u001b[0m\u001b[1;33m,\u001b[0m\u001b[1;34m'type'\u001b[0m\u001b[1;33m]\u001b[0m\u001b[1;33m]\u001b[0m\u001b[1;33m\u001b[0m\u001b[1;33m\u001b[0m\u001b[0m\n\u001b[0m\u001b[0;32m      2\u001b[0m \u001b[0mresult\u001b[0m\u001b[1;33m.\u001b[0m\u001b[0minfo\u001b[0m\u001b[1;33m(\u001b[0m\u001b[1;33m)\u001b[0m\u001b[1;33m\u001b[0m\u001b[1;33m\u001b[0m\u001b[0m\n",
      "\u001b[1;31mNameError\u001b[0m: name 'RFM_TEST' is not defined"
     ]
    }
   ],
   "source": [
    "result = RFM_TEST[['id','type']]\n",
    "result.info()"
   ]
  },
  {
   "cell_type": "code",
   "execution_count": 137,
   "metadata": {},
   "outputs": [],
   "source": [
    "result.to_excel('YD_result.xlsx')"
   ]
  },
  {
   "cell_type": "code",
   "execution_count": null,
   "metadata": {},
   "outputs": [],
   "source": []
  }
 ],
 "metadata": {
  "kernelspec": {
   "display_name": "Python 3",
   "language": "python",
   "name": "python3"
  },
  "language_info": {
   "codemirror_mode": {
    "name": "ipython",
    "version": 3
   },
   "file_extension": ".py",
   "mimetype": "text/x-python",
   "name": "python",
   "nbconvert_exporter": "python",
   "pygments_lexer": "ipython3",
   "version": "3.7.6"
  }
 },
 "nbformat": 4,
 "nbformat_minor": 4
}
