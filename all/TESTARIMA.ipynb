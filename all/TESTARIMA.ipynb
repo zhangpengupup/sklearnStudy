{
 "cells": [
  {
   "cell_type": "code",
   "execution_count": 2,
   "metadata": {},
   "outputs": [],
   "source": [
    "import pandas as pd\n",
    "import numpy as np\n",
    "import datetime as dt\n",
    "from sklearn.model_selection import train_test_split\n",
    "from sklearn.model_selection import cross_val_score\n",
    "from sklearn.linear_model import LinearRegression \n",
    "from sklearn.preprocessing import MinMaxScaler\n",
    "from sklearn.preprocessing import StandardScaler\n",
    "from sklearn.preprocessing import OneHotEncoder\n",
    "import matplotlib.pyplot as plt\n",
    "from sklearn import  neighbors\n",
    "from sklearn.metrics import mean_absolute_error,mean_squared_error\n",
    "from scipy import stats"
   ]
  },
  {
   "cell_type": "code",
   "execution_count": 3,
   "metadata": {},
   "outputs": [
    {
     "name": "stdout",
     "output_type": "stream",
     "text": [
      "<class 'pandas.core.frame.DataFrame'>\n",
      "RangeIndex: 66 entries, 0 to 65\n",
      "Data columns (total 2 columns):\n",
      " #   Column    Non-Null Count  Dtype         \n",
      "---  ------    --------------  -----         \n",
      " 0   SALEDATE  66 non-null     datetime64[ns]\n",
      " 1   MONEY     66 non-null     float64       \n",
      "dtypes: datetime64[ns](1), float64(1)\n",
      "memory usage: 1.2 KB\n"
     ]
    }
   ],
   "source": [
    "trainday = pd.read_excel(r\"G:\\traindata\\yddata\\6-8month.xlsx\")#读取展示数据\n",
    "trainday.info()"
   ]
  },
  {
   "cell_type": "code",
   "execution_count": 4,
   "metadata": {},
   "outputs": [
    {
     "data": {
      "text/plain": [
       "<Figure size 1080x504 with 0 Axes>"
      ]
     },
     "metadata": {},
     "output_type": "display_data"
    },
    {
     "data": {
      "image/png": "[encoded data removed]",
      "text/plain": [
       "<Figure size 432x288 with 1 Axes>"
      ]
     },
     "metadata": {
      "needs_background": "light"
     },
     "output_type": "display_data"
    }
   ],
   "source": [
    "trainday_test  = trainday.copy()\n",
    "trainday_test.set_index('SALEDATE', inplace=True)\n",
    "plt.figure(figsize=(15,7))\n",
    "plt.rcParams['font.sans-serif'] = ['SimHei'] #用来正常显示中文标签 \n",
    "plt.rcParams['axes.unicode_minus'] = False #用来正常显示负号 \n",
    "trainday_test.plot() \n",
    "plt.show()"
   ]
  },
  {
   "cell_type": "code",
   "execution_count": 5,
   "metadata": {},
   "outputs": [],
   "source": [
    "scaler = StandardScaler()\n",
    "# result = scaler.fit_transform(y)\n"
   ]
  },
  {
   "cell_type": "code",
   "execution_count": 6,
   "metadata": {},
   "outputs": [],
   "source": [
    "trainday_test['MONEY'] = np.log(trainday_test['MONEY'])"
   ]
  },
  {
   "cell_type": "code",
   "execution_count": 7,
   "metadata": {},
   "outputs": [
    {
     "data": {
      "text/html": [
       "<div>\n",
       "<style scoped>\n",
       "    .dataframe tbody tr th:only-of-type {\n",
       "        vertical-align: middle;\n",
       "    }\n",
       "\n",
       "    .dataframe tbody tr th {\n",
       "        vertical-align: top;\n",
       "    }\n",
       "\n",
       "    .dataframe thead th {\n",
       "        text-align: right;\n",
       "    }\n",
       "</style>\n",
       "<table border=\"1\" class=\"dataframe\">\n",
       "  <thead>\n",
       "    <tr style=\"text-align: right;\">\n",
       "      <th></th>\n",
       "      <th>SALEDATE</th>\n",
       "      <th>MONEY</th>\n",
       "    </tr>\n",
       "  </thead>\n",
       "  <tbody>\n",
       "    <tr>\n",
       "      <th>0</th>\n",
       "      <td>2020-06-01</td>\n",
       "      <td>7.391415</td>\n",
       "    </tr>\n",
       "    <tr>\n",
       "      <th>1</th>\n",
       "      <td>2020-06-02</td>\n",
       "      <td>7.179460</td>\n",
       "    </tr>\n",
       "    <tr>\n",
       "      <th>2</th>\n",
       "      <td>2020-06-03</td>\n",
       "      <td>7.380318</td>\n",
       "    </tr>\n",
       "    <tr>\n",
       "      <th>3</th>\n",
       "      <td>2020-06-04</td>\n",
       "      <td>7.028113</td>\n",
       "    </tr>\n",
       "    <tr>\n",
       "      <th>4</th>\n",
       "      <td>2020-06-05</td>\n",
       "      <td>7.221690</td>\n",
       "    </tr>\n",
       "    <tr>\n",
       "      <th>...</th>\n",
       "      <td>...</td>\n",
       "      <td>...</td>\n",
       "    </tr>\n",
       "    <tr>\n",
       "      <th>61</th>\n",
       "      <td>2020-08-01</td>\n",
       "      <td>6.627022</td>\n",
       "    </tr>\n",
       "    <tr>\n",
       "      <th>62</th>\n",
       "      <td>2020-08-02</td>\n",
       "      <td>7.411320</td>\n",
       "    </tr>\n",
       "    <tr>\n",
       "      <th>63</th>\n",
       "      <td>2020-08-03</td>\n",
       "      <td>6.837708</td>\n",
       "    </tr>\n",
       "    <tr>\n",
       "      <th>64</th>\n",
       "      <td>2020-08-04</td>\n",
       "      <td>7.241538</td>\n",
       "    </tr>\n",
       "    <tr>\n",
       "      <th>65</th>\n",
       "      <td>2020-08-05</td>\n",
       "      <td>7.206748</td>\n",
       "    </tr>\n",
       "  </tbody>\n",
       "</table>\n",
       "<p>66 rows × 2 columns</p>\n",
       "</div>"
      ],
      "text/plain": [
       "     SALEDATE     MONEY\n",
       "0  2020-06-01  7.391415\n",
       "1  2020-06-02  7.179460\n",
       "2  2020-06-03  7.380318\n",
       "3  2020-06-04  7.028113\n",
       "4  2020-06-05  7.221690\n",
       "..        ...       ...\n",
       "61 2020-08-01  6.627022\n",
       "62 2020-08-02  7.411320\n",
       "63 2020-08-03  6.837708\n",
       "64 2020-08-04  7.241538\n",
       "65 2020-08-05  7.206748\n",
       "\n",
       "[66 rows x 2 columns]"
      ]
     },
     "execution_count": 7,
     "metadata": {},
     "output_type": "execute_result"
    }
   ],
   "source": [
    "trainday_test  = trainday_test.reset_index()\n",
    "trainday_test"
   ]
  },
  {
   "cell_type": "code",
   "execution_count": 8,
   "metadata": {},
   "outputs": [
    {
     "name": "stdout",
     "output_type": "stream",
     "text": [
      "原始序列的ADF检验结果为： (-9.124451243937976, 3.1410612095220004e-15, 0, 65, {'1%': -3.5352168748293127, '5%': -2.9071540828402367, '10%': -2.5911025443786984}, 25.660174337929476)\n"
     ]
    }
   ],
   "source": [
    "from statsmodels.tsa.stattools import adfuller as ADF\n",
    "\n",
    "print(u'原始序列的ADF检验结果为：',ADF(trainday_test[u'MONEY']))"
   ]
  },
  {
   "cell_type": "code",
   "execution_count": 35,
   "metadata": {},
   "outputs": [
    {
     "name": "stdout",
     "output_type": "stream",
     "text": [
      "白噪声检验结果为： (array([1.18786494]), array([0.27576065]))\n"
     ]
    },
    {
     "name": "stderr",
     "output_type": "stream",
     "text": [
      "D:\\anaconda\\lib\\site-packages\\statsmodels\\stats\\diagnostic.py:524: FutureWarning: The value returned will change to a single DataFrame after 0.12 is released.  Set return_df to True to use to return a DataFrame now.  Set return_df to False to silence this warning.\n",
      "  warnings.warn(msg, FutureWarning)\n"
     ]
    }
   ],
   "source": [
    "from statsmodels.stats.diagnostic import acorr_ljungbox\n",
    "\n",
    "print(u'白噪声检验结果为：',acorr_ljungbox(trainday_test[u'MONEY'],lags=1)) #返回统计量和p值"
   ]
  },
  {
   "cell_type": "code",
   "execution_count": null,
   "metadata": {},
   "outputs": [],
   "source": [
    "from statsmodels.stats.diagnostic import acorr_ljungbox\n",
    "\n",
    "print(u'白噪声检验结果为：',acorr_ljungbox(trainday_test,lags=[24,24])) #返回统计量和p值"
   ]
  },
  {
   "cell_type": "code",
   "execution_count": 44,
   "metadata": {},
   "outputs": [],
   "source": [
    "trainday  = pd.DataFrame(trainday)\n",
    "X = trainday.iloc[:,trainday.columns != 'MONEY']"
   ]
  },
  {
   "cell_type": "code",
   "execution_count": 10,
   "metadata": {},
   "outputs": [
    {
     "name": "stdout",
     "output_type": "stream",
     "text": [
      "SALEDATE    datetime64[ns]\n",
      "MONEY              float64\n",
      "dtype: object\n"
     ]
    }
   ],
   "source": [
    "print (trainday.dtypes)"
   ]
  },
  {
   "cell_type": "code",
   "execution_count": 11,
   "metadata": {},
   "outputs": [],
   "source": [
    "train = trainday.iloc[:,trainday.columns == 'SALEDATE'][0:59]\n",
    "test = train[60:66]"
   ]
  },
  {
   "cell_type": "code",
   "execution_count": 12,
   "metadata": {},
   "outputs": [],
   "source": [
    "# Xtrain,Xtest,Ytrain,Ytest = train_test_split(X,y,test_size=0.2,random_state =60)"
   ]
  },
  {
   "cell_type": "code",
   "execution_count": 13,
   "metadata": {},
   "outputs": [
    {
     "data": {
      "text/plain": [
       "<bound method DataFrame.info of        MONEY\n",
       "0   1621.999\n",
       "1   1312.200\n",
       "2   1604.100\n",
       "3   1127.900\n",
       "4   1368.800\n",
       "..       ...\n",
       "61   755.230\n",
       "62  1654.609\n",
       "63   932.350\n",
       "64  1396.240\n",
       "65  1348.500\n",
       "\n",
       "[66 rows x 1 columns]>"
      ]
     },
     "execution_count": 13,
     "metadata": {},
     "output_type": "execute_result"
    }
   ],
   "source": [
    "y = trainday.iloc[:,trainday.columns == 'MONEY']\n",
    "y.info "
   ]
  },
  {
   "cell_type": "code",
   "execution_count": 14,
   "metadata": {},
   "outputs": [],
   "source": [
    "# scaler = StandardScaler()\n",
    "# result = scaler.fit_transform(y)\n",
    "# result \n",
    "# y_log = pd.DataFrame(result)\n",
    "# y_log\n",
    "# y_log = np.log(y)"
   ]
  },
  {
   "cell_type": "code",
   "execution_count": 36,
   "metadata": {},
   "outputs": [],
   "source": [
    "# y_log_moving_avg_diff = y_log-moving_avg\n",
    "# y_log_moving_avg_diff.dropna(inplace = True)"
   ]
  },
  {
   "cell_type": "code",
   "execution_count": 37,
   "metadata": {},
   "outputs": [],
   "source": [
    "# moving_avg = y_log.rolling(5).mean()\n",
    "# plt.plot(y_log ,color = 'blue')\n",
    "# plt.plot(moving_avg, color='red')\n",
    "# plt.plot(y_log_moving_avg_diff, color='black')"
   ]
  },
  {
   "cell_type": "code",
   "execution_count": 38,
   "metadata": {},
   "outputs": [],
   "source": [
    "# y_log_moving_avg_diff = y_log-moving_avg\n",
    "# y_log_moving_avg_diff.dropna(inplace = True)\n",
    "# test_stationarity(y_log_moving_avg_diff)"
   ]
  },
  {
   "cell_type": "code",
   "execution_count": 40,
   "metadata": {},
   "outputs": [],
   "source": [
    "# Y1 = y_log.diff(1)"
   ]
  },
  {
   "cell_type": "code",
   "execution_count": 41,
   "metadata": {},
   "outputs": [],
   "source": [
    "# Y2 = Y1.diff(2)"
   ]
  },
  {
   "cell_type": "code",
   "execution_count": 39,
   "metadata": {},
   "outputs": [],
   "source": [
    "# Y3 = Y2.diff(3)"
   ]
  },
  {
   "cell_type": "code",
   "execution_count": 42,
   "metadata": {},
   "outputs": [],
   "source": [
    "\n",
    "# fig = plt.figure(figsize=(15,6))\n",
    "# ax1= fig.add_subplot(111)\n",
    "# # Y1 = sentiment_short.diff(1)\n",
    "# y_log.plot(ax=ax1)\n",
    "\n",
    "\n",
    "# fig = plt.figure(figsize=(15,6))\n",
    "# ax1= fig.add_subplot(111)\n",
    "# # Y1 = sentiment_short.diff(1)\n",
    "# Y1.plot(ax=ax1)\n",
    " \n",
    "# fig = plt.figure(figsize=(15,6))\n",
    "# ax2= fig.add_subplot(111)\n",
    "# # diff2 = dta.diff(2)\n",
    "# Y2.plot(ax=ax2)\n",
    " \n",
    "    \n",
    "# fig = plt.figure(figsize=(15,6))\n",
    "# ax3= fig.add_subplot(111)\n",
    "# # diff2 = dta.diff(2)\n",
    "# Y3.plot(ax=ax3)\n",
    "    \n",
    "# plt.show()"
   ]
  },
  {
   "cell_type": "code",
   "execution_count": 22,
   "metadata": {},
   "outputs": [
    {
     "data": {
      "image/png": "[encoded data removed]",
      "text/plain": [
       "<Figure size 864x576 with 2 Axes>"
      ]
     },
     "metadata": {
      "needs_background": "light"
     },
     "output_type": "display_data"
    }
   ],
   "source": [
    "\n",
    "import statsmodels.api as sm\n",
    "fig = plt.figure(figsize=(12,8))\n",
    " \n",
    "ax1 = fig.add_subplot(211)\n",
    "fig = sm.graphics.tsa.plot_acf(train, lags=20,ax=ax1)\n",
    "ax1.xaxis.set_ticks_position('bottom')\n",
    "fig.tight_layout()\n",
    " \n",
    "ax2 = fig.add_subplot(212)\n",
    "fig = sm.graphics.tsa.plot_pacf(train, lags=20, ax=ax2)\n",
    "ax2.xaxis.set_ticks_position('bottom')\n",
    "fig.tight_layout()\n",
    "plt.show()"
   ]
  },
  {
   "cell_type": "code",
   "execution_count": 23,
   "metadata": {},
   "outputs": [],
   "source": [
    "\n",
    "# #遍历，寻找适宜的参数\n",
    "# import itertools\n",
    "# import numpy as np\n",
    "# import seaborn as sns\n",
    " \n",
    "# p_min = 0\n",
    "# d_min = 0\n",
    "# q_min = 0\n",
    "# p_max = 5\n",
    "# d_max = 0\n",
    "# q_max = 5\n",
    " \n",
    "# # Initialize a DataFrame to store the results,，以BIC准则\n",
    "# results_bic = pd.DataFrame(index=['AR{}'.format(i) for i in range(p_min,p_max+1)],\n",
    "#                            columns=['MA{}'.format(i) for i in range(q_min,q_max+1)])\n",
    " \n",
    "# for p,d,q in itertools.product(range(p_min,p_max+1),\n",
    "#                                range(d_min,d_max+1),\n",
    "#                                range(q_min,q_max+1)):\n",
    "#     if p==0 and d==0 and q==0:\n",
    "#         results_bic.loc['AR{}'.format(p), 'MA{}'.format(q)] = np.nan\n",
    "#         continue\n",
    " \n",
    "#     try:\n",
    "#         model = sm.tsa.ARIMA(train, order=(p, d, q),\n",
    "#                                #enforce_stationarity=False,\n",
    "#                                #enforce_invertibility=False,\n",
    "#                               )\n",
    "#         results = model.fit()\n",
    "#         results_bic.loc['AR{}'.format(p), 'MA{}'.format(q)] = results.bic\n",
    "#     except:\n",
    "#         continue\n",
    "# results_bic = results_bic[results_bic.columns].astype(float)\n",
    " \n",
    "# fig, ax = plt.subplots(figsize=(10, 8))\n",
    "# ax = sns.heatmap(results_bic,\n",
    "#                  mask=results_bic.isnull(),\n",
    "#                  ax=ax,\n",
    "#                  annot=True,\n",
    "#                  fmt='.2f',\n",
    "#                  )\n",
    "# ax.set_title('BIC')\n",
    "# plt.show()"
   ]
  },
  {
   "cell_type": "code",
   "execution_count": 24,
   "metadata": {},
   "outputs": [
    {
     "data": {
      "text/plain": [
       "<Figure size 864x576 with 0 Axes>"
      ]
     },
     "metadata": {},
     "output_type": "display_data"
    },
    {
     "data": {
      "image/png": "[encoded data removed]",
      "text/plain": [
       "<Figure size 432x288 with 1 Axes>"
      ]
     },
     "metadata": {
      "needs_background": "light"
     },
     "output_type": "display_data"
    }
   ],
   "source": [
    "\n",
    "model = sm.tsa.ARIMA(y, order=(1, 0, 1))\n",
    "results = model.fit()\n",
    "resid = results.resid #赋值\n",
    "fig = plt.figure(figsize=(12,8))\n",
    "fig = sm.graphics.tsa.plot_acf(resid.values.squeeze(), lags=40)\n",
    "plt.show()\n"
   ]
  },
  {
   "cell_type": "code",
   "execution_count": 25,
   "metadata": {},
   "outputs": [],
   "source": [
    "from statsmodels.tsa.arima_model import ARIMA #模型\n",
    "from statsmodels.tsa.arima_model import ARMA"
   ]
  },
  {
   "cell_type": "code",
   "execution_count": 26,
   "metadata": {},
   "outputs": [],
   "source": [
    "# def ARMA_model(train_D,train,test,order):\n",
    "#     arma_model = ARMA(train,order) #ARMA模型\n",
    "#     result = arma_model.fit()#激活模型\n",
    "#     #print(result.summary()) #给出一份模型报告\n",
    "#     ############ in-sample ############\n",
    "#     pred = result.predict()\n",
    "    \n",
    "#     #pred.plot()\n",
    "#     #train.plot()\n",
    "#     #print('标准差为{}'.format(mean_squared_error(train,pred)))\n",
    "    \n",
    "#     #残差\n",
    "#     resid = result.resid \n",
    "#     #利用QQ图检验残差是否满足正态分布\n",
    "#     plt.figure(figsize=(12,8))\n",
    "#     qqplot(resid,line='q',fit=True)\n",
    "#     #利用D-W检验,检验残差的自相关性\n",
    "#     print('D-W检验值为{}'.format(durbin_watson(resid.values)))"
   ]
  },
  {
   "cell_type": "code",
   "execution_count": 27,
   "metadata": {},
   "outputs": [],
   "source": [
    "# ARMA_model(trainday,train,test,(1,0,1))"
   ]
  },
  {
   "cell_type": "code",
   "execution_count": null,
   "metadata": {},
   "outputs": [],
   "source": [
    "# sm.tsa.arma_order_select_ic(y,max_ar=6,max_ma=4,ic='aic')['aic_min_order']  # AIC"
   ]
  },
  {
   "cell_type": "code",
   "execution_count": null,
   "metadata": {},
   "outputs": [],
   "source": [
    "# import statsmodels.tsa.stattools as st\n",
    "# order = st.arma_order_select_ic(trainday_test['MONEY'],max_ar=5,max_ma=5,ic=['aic', 'bic', 'hqic'])\n",
    "# order.bic_min_order\n"
   ]
  },
  {
   "cell_type": "code",
   "execution_count": 78,
   "metadata": {},
   "outputs": [
    {
     "data": {
      "text/plain": [
       "(25.241260561448996, 31.81022478752827, 27.83697054185652)"
      ]
     },
     "execution_count": 78,
     "metadata": {},
     "output_type": "execute_result"
    }
   ],
   "source": [
    "\n",
    "model = sm.tsa.ARMA(trainday_test['MONEY'], order=(1,0,1)).fit()\n",
    "x = model.aic,model.bic,model.hqic\n",
    "x\n",
    "\n",
    "        "
   ]
  },
  {
   "cell_type": "code",
   "execution_count": 79,
   "metadata": {},
   "outputs": [
    {
     "data": {
      "text/plain": [
       "[<matplotlib.lines.Line2D at 0x17511ce9708>]"
      ]
     },
     "execution_count": 79,
     "metadata": {},
     "output_type": "execute_result"
    },
    {
     "data": {
      "image/png": "[encoded data removed]",
      "text/plain": [
       "<Figure size 432x288 with 1 Axes>"
      ]
     },
     "metadata": {
      "needs_background": "light"
     },
     "output_type": "display_data"
    }
   ],
   "source": [
    "model = sm.tsa.ARMA(trainday_test['MONEY'], order=(1,0,1))\n",
    "results = model.fit()\n",
    "plt.plot(X,trainday_test['MONEY'])\n",
    "plt.plot(X,results.fittedvalues, color='red')"
   ]
  },
  {
   "cell_type": "code",
   "execution_count": 80,
   "metadata": {},
   "outputs": [
    {
     "data": {
      "text/plain": [
       "<function matplotlib.pyplot.show(*args, **kw)>"
      ]
     },
     "execution_count": 80,
     "metadata": {},
     "output_type": "execute_result"
    },
    {
     "data": {
      "image/png": "[encoded data removed]",
      "text/plain": [
       "<Figure size 1800x720 with 1 Axes>"
      ]
     },
     "metadata": {
      "needs_background": "light"
     },
     "output_type": "display_data"
    }
   ],
   "source": [
    "fig = plt.figure(figsize=(25, 10))#展示\n",
    "ax = fig.add_subplot(111)\n",
    "ax.plot(X,trainday_test['MONEY'],'ro')\n",
    "ax.plot(X,results.fittedvalues, 'bo')\n",
    "ax.plot(X,trainday_test['MONEY'] - results.fittedvalues, 'b-')\n",
    "plt.xticks(rotation=90)\n",
    "plt.show"
   ]
  },
  {
   "cell_type": "code",
   "execution_count": 81,
   "metadata": {},
   "outputs": [
    {
     "data": {
      "text/plain": [
       "0.03229183555986758"
      ]
     },
     "execution_count": 81,
     "metadata": {},
     "output_type": "execute_result"
    }
   ],
   "source": [
    "ss = trainday_test['MONEY'].values\n",
    "z = results.fittedvalues\n",
    "z = z.values.reshape(-1,1)\n",
    "def MAPE(true, pred):\n",
    "    diff = np.abs(np.array(true) - np.array(pred))\n",
    "    return np.mean(diff / true)\n",
    "    pint(np.mean(diff / true))\n",
    "MAPE(ss,z)"
   ]
  },
  {
   "cell_type": "code",
   "execution_count": 82,
   "metadata": {},
   "outputs": [
    {
     "data": {
      "text/plain": [
       "0.23727190711890328"
      ]
     },
     "execution_count": 82,
     "metadata": {},
     "output_type": "execute_result"
    }
   ],
   "source": [
    "MAPE(np.exp(ss),np.exp(z))"
   ]
  },
  {
   "cell_type": "code",
   "execution_count": null,
   "metadata": {},
   "outputs": [],
   "source": []
  },
  {
   "cell_type": "code",
   "execution_count": null,
   "metadata": {},
   "outputs": [],
   "source": []
  }
 ],
 "metadata": {
  "kernelspec": {
   "display_name": "Python 3",
   "language": "python",
   "name": "python3"
  },
  "language_info": {
   "codemirror_mode": {
    "name": "ipython",
    "version": 3
   },
   "file_extension": ".py",
   "mimetype": "text/x-python",
   "name": "python",
   "nbconvert_exporter": "python",
   "pygments_lexer": "ipython3",
   "version": "3.7.6"
  }
 },
 "nbformat": 4,
 "nbformat_minor": 4
}
