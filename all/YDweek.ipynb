{
 "cells": [
  {
   "cell_type": "code",
   "execution_count": 2,
   "metadata": {},
   "outputs": [],
   "source": [
    "import pandas as pd\n",
    "import numpy as np\n",
    "import datetime as dt\n",
    "from sklearn.model_selection import train_test_split\n",
    "from sklearn.model_selection import cross_val_score\n",
    "from sklearn.linear_model import LinearRegression \n",
    "from sklearn.preprocessing import MinMaxScaler\n",
    "from sklearn.preprocessing import StandardScaler\n",
    "import matplotlib.pyplot as plt"
   ]
  },
  {
   "cell_type": "code",
   "execution_count": 3,
   "metadata": {},
   "outputs": [],
   "source": [
    "trainweek = pd.read_excel(r\"G:\\traindata\\yddata\\yd_weeksale.xlsx\")"
   ]
  },
  {
   "cell_type": "code",
   "execution_count": 4,
   "metadata": {},
   "outputs": [
    {
     "data": {
      "image/png": "[encoded data removed]",
      "text/plain": [
       "<Figure size 504x360 with 1 Axes>"
      ]
     },
     "metadata": {
      "needs_background": "light"
     },
     "output_type": "display_data"
    }
   ],
   "source": [
    "import matplotlib.pyplot as plt\n",
    "fig = plt.figure(figsize=(7, 5))\n",
    "ax = fig.add_subplot(111)\n",
    "ax.plot(trainweek['week'],trainweek['money'],c=\"orange\",label= \"Data\")\n",
    "ax.plot(trainweek['week'],trainweek['money'],'ro')\n",
    "# plt.xticks(rotation=90)\n",
    "plt.show()"
   ]
  },
  {
   "cell_type": "code",
   "execution_count": 5,
   "metadata": {},
   "outputs": [
    {
     "data": {
      "text/plain": [
       "-0.6597329466546629"
      ]
     },
     "execution_count": 5,
     "metadata": {},
     "output_type": "execute_result"
    }
   ],
   "source": [
    "X = trainweek['week']\n",
    "X = X.values.reshape(-1, 1)\n",
    "y = trainweek['money']\n",
    "y = y.values.reshape(-1, 1)\n",
    "Xtrain,Xtest,Ytrain,Ytest = train_test_split(X,y,test_size=0.3,random_state=440)\n",
    "reg = LinearRegression().fit(Xtrain,Ytrain)\n",
    "reg.score(Xtest,Ytest)"
   ]
  },
  {
   "cell_type": "code",
   "execution_count": 6,
   "metadata": {},
   "outputs": [],
   "source": [
    "trainmonth = pd.read_excel(r\"G:\\traindata\\yddata\\yd_monthsale.xlsx\")"
   ]
  },
  {
   "cell_type": "code",
   "execution_count": 7,
   "metadata": {},
   "outputs": [
    {
     "data": {
      "text/plain": [
       "<function matplotlib.pyplot.show(*args, **kw)>"
      ]
     },
     "execution_count": 7,
     "metadata": {},
     "output_type": "execute_result"
    },
    {
     "data": {
      "image/png": "[encoded data removed]",
      "text/plain": [
       "<Figure size 504x360 with 1 Axes>"
      ]
     },
     "metadata": {
      "needs_background": "light"
     },
     "output_type": "display_data"
    }
   ],
   "source": [
    "import matplotlib.pyplot as plt\n",
    "fig = plt.figure(figsize=(7, 5))\n",
    "ax = fig.add_subplot(111)\n",
    "ax.plot(trainmonth['partdate'],trainmonth['money'],'r-')\n",
    "ax.plot(trainmonth['partdate'],trainmonth['money'],'bo')\n",
    "plt.xticks(rotation=90)\n",
    "plt.show"
   ]
  },
  {
   "cell_type": "code",
   "execution_count": 8,
   "metadata": {},
   "outputs": [
    {
     "data": {
      "text/plain": [
       "array([[737364],\n",
       "       [737394],\n",
       "       [737425],\n",
       "       [737456],\n",
       "       [737485],\n",
       "       [737516],\n",
       "       [737546],\n",
       "       [737577],\n",
       "       [737607]], dtype=int64)"
      ]
     },
     "execution_count": 8,
     "metadata": {},
     "output_type": "execute_result"
    }
   ],
   "source": [
    "trainmonth  = pd.DataFrame(trainmonth)\n",
    "X = trainmonth['partdate']\n",
    "X = X.apply(pd.to_datetime)\n",
    "# X = X.values.reshape(-1,1)\n",
    "X = X.map(dt.datetime.toordinal)\n",
    "X = X.values.reshape(-1, 1)\n",
    "X"
   ]
  },
  {
   "cell_type": "code",
   "execution_count": 9,
   "metadata": {},
   "outputs": [
    {
     "data": {
      "text/plain": [
       "array([[1.    ],\n",
       "       [0.871 ],\n",
       "       [0.8333],\n",
       "       [0.9091],\n",
       "       [0.9032],\n",
       "       [0.7333],\n",
       "       [0.8   ],\n",
       "       [0.9667],\n",
       "       [0.7857]])"
      ]
     },
     "execution_count": 9,
     "metadata": {},
     "output_type": "execute_result"
    }
   ],
   "source": [
    "y = trainmonth.iloc[:,-1]\n",
    "# y.head(10)\n",
    "y = y.values.reshape(-1, 1)\n",
    "y"
   ]
  },
  {
   "cell_type": "code",
   "execution_count": 10,
   "metadata": {},
   "outputs": [],
   "source": [
    "Xtrain,Xtest,Ytrain,Ytest = train_test_split(X,y,test_size=0.3)"
   ]
  },
  {
   "cell_type": "code",
   "execution_count": 11,
   "metadata": {},
   "outputs": [
    {
     "data": {
      "text/plain": [
       "array([[7.37577000e+05, 5.44019831e+11],\n",
       "       [7.37394000e+05, 5.43749911e+11],\n",
       "       [7.37425000e+05, 5.43795631e+11]])"
      ]
     },
     "execution_count": 11,
     "metadata": {},
     "output_type": "execute_result"
    }
   ],
   "source": [
    "from sklearn.preprocessing import PolynomialFeatures\n",
    "poly = PolynomialFeatures(degree=2,include_bias=False)#添加多项式回归，增加拟合程度\n",
    "Xtrain_poly = poly.fit_transform(Xtrain)#分别对训练集和测试集进行处理\n",
    "Xtest_poly = poly.fit_transform(Xtest)#\n",
    "X_poly = poly.fit_transform(X)\n",
    "Xtest_poly"
   ]
  },
  {
   "cell_type": "code",
   "execution_count": 12,
   "metadata": {},
   "outputs": [
    {
     "data": {
      "text/plain": [
       "-4.3378736093229495"
      ]
     },
     "execution_count": 12,
     "metadata": {},
     "output_type": "execute_result"
    }
   ],
   "source": [
    "model = LinearRegression(normalize=True).fit(Xtrain_poly,Ytrain)\n",
    "j = model.score(Xtest_poly,Ytest)\n",
    "j"
   ]
  },
  {
   "cell_type": "code",
   "execution_count": 13,
   "metadata": {},
   "outputs": [
    {
     "data": {
      "text/plain": [
       "array([[0.78128415],\n",
       "       [0.96410228],\n",
       "       [0.91956077]])"
      ]
     },
     "execution_count": 13,
     "metadata": {},
     "output_type": "execute_result"
    }
   ],
   "source": [
    "y_pre = model.predict(Xtest_poly)\n",
    "y_pre"
   ]
  },
  {
   "cell_type": "code",
   "execution_count": 14,
   "metadata": {},
   "outputs": [],
   "source": [
    "Y_pre = model.predict(X_poly)"
   ]
  },
  {
   "cell_type": "code",
   "execution_count": 15,
   "metadata": {},
   "outputs": [
    {
     "data": {
      "image/png": "[encoded data removed]",
      "text/plain": [
       "<Figure size 432x288 with 1 Axes>"
      ]
     },
     "metadata": {
      "needs_background": "light"
     },
     "output_type": "display_data"
    }
   ],
   "source": [
    "plt.plot(X,Y_pre,'r-')\n",
    "plt.plot(X,y,'b-')\n",
    "plt.show()"
   ]
  },
  {
   "cell_type": "code",
   "execution_count": 16,
   "metadata": {},
   "outputs": [],
   "source": [
    "reg = LinearRegression().fit(Xtrain,Ytrain)"
   ]
  },
  {
   "cell_type": "code",
   "execution_count": 17,
   "metadata": {},
   "outputs": [
    {
     "data": {
      "text/plain": [
       "array([[0.77306744],\n",
       "       [0.9579032 ],\n",
       "       [0.92659222]])"
      ]
     },
     "execution_count": 17,
     "metadata": {},
     "output_type": "execute_result"
    }
   ],
   "source": [
    "y_predict =reg.predict(Xtest)\n",
    "y_predict"
   ]
  },
  {
   "cell_type": "code",
   "execution_count": 18,
   "metadata": {},
   "outputs": [
    {
     "data": {
      "text/plain": [
       "0.7167450749307869"
      ]
     },
     "execution_count": 18,
     "metadata": {},
     "output_type": "execute_result"
    }
   ],
   "source": [
    "reg.score(Xtrain,Ytrain)"
   ]
  },
  {
   "cell_type": "code",
   "execution_count": 19,
   "metadata": {},
   "outputs": [
    {
     "data": {
      "text/plain": [
       "<function matplotlib.pyplot.show(*args, **kw)>"
      ]
     },
     "execution_count": 19,
     "metadata": {},
     "output_type": "execute_result"
    },
    {
     "data": {
      "image/png": "[encoded data removed]",
      "text/plain": [
       "<Figure size 432x288 with 1 Axes>"
      ]
     },
     "metadata": {
      "needs_background": "light"
     },
     "output_type": "display_data"
    }
   ],
   "source": [
    "y_hat = reg.predict(X)\n",
    "plt.plot(X,y_hat,'r-')\n",
    "plt.plot(X,y,'bo')\n",
    "plt.show"
   ]
  },
  {
   "cell_type": "code",
   "execution_count": 20,
   "metadata": {},
   "outputs": [
    {
     "data": {
      "text/plain": [
       "array([[0.72256587]])"
      ]
     },
     "execution_count": 20,
     "metadata": {},
     "output_type": "execute_result"
    }
   ],
   "source": [
    "reg_coef = reg.coef_     #截距\n",
    "reg_intercept = reg.intercept_ #斜率\n",
    "X_test = pd.DataFrame(np.array([\n",
    "   ['2020-07-21'],], dtype='datetime64[ns]'))\n",
    "X_test.columns = [\"Date\"]\n",
    "X_test['Date'] = pd.to_datetime(X_test['Date'])\n",
    "X_test['Date']=X_test['Date'].map(dt.datetime.toordinal)\n",
    "X_test['Date']\n",
    "prediction = reg_coef*int(X_test['Date'])+reg_intercept\n",
    "prediction"
   ]
  },
  {
   "cell_type": "code",
   "execution_count": 21,
   "metadata": {},
   "outputs": [
    {
     "data": {
      "text/plain": [
       "array([[-4.24946597e+00,  2.88037321e-06]])"
      ]
     },
     "execution_count": 21,
     "metadata": {},
     "output_type": "execute_result"
    }
   ],
   "source": [
    "mod_coef = model.coef_     #截距\n",
    "mod_coef"
   ]
  },
  {
   "cell_type": "code",
   "execution_count": 22,
   "metadata": {},
   "outputs": [],
   "source": [
    "mod_intercept = model.intercept_ #斜率"
   ]
  },
  {
   "cell_type": "code",
   "execution_count": 23,
   "metadata": {},
   "outputs": [
    {
     "data": {
      "text/plain": [
       "0    737546\n",
       "Name: Date, dtype: int64"
      ]
     },
     "execution_count": 23,
     "metadata": {},
     "output_type": "execute_result"
    }
   ],
   "source": [
    "X_test = pd.DataFrame(np.array([\n",
    "   ['2020-05-01'],], dtype='datetime64[ns]'))\n",
    "X_test.columns = [\"Date\"]\n",
    "X_test['Date'] = pd.to_datetime(X_test['Date'])\n",
    "X_test['Date']=X_test['Date'].map(dt.datetime.toordinal)\n",
    "X_test['Date']"
   ]
  },
  {
   "cell_type": "code",
   "execution_count": 24,
   "metadata": {},
   "outputs": [
    {
     "data": {
      "text/plain": [
       "array([[7.19163000e+05, 5.17195421e+11]])"
      ]
     },
     "execution_count": 24,
     "metadata": {},
     "output_type": "execute_result"
    }
   ],
   "source": [
    "X_input = X_test['Date'].apply(pd.to_datetime)\n",
    "# X = X.values.reshape(-1,1)\n",
    "X_input = X_input.map(dt.datetime.toordinal)\n",
    "X_input =X_input.values.reshape(-1, 1)\n",
    "X_input_poly = poly.fit_transform(X_input.reshape(-1,1))\n",
    "X_input_poly"
   ]
  },
  {
   "cell_type": "code",
   "execution_count": 25,
   "metadata": {},
   "outputs": [
    {
     "data": {
      "text/plain": [
       "array([[986.13449992]])"
      ]
     },
     "execution_count": 25,
     "metadata": {},
     "output_type": "execute_result"
    }
   ],
   "source": [
    "y_predict = model.predict(X_input_poly)\n",
    "y_predict"
   ]
  },
  {
   "cell_type": "code",
   "execution_count": 26,
   "metadata": {},
   "outputs": [],
   "source": [
    "trainday = pd.read_excel(r\"G:\\traindata\\yddata\\yd_daysale.xlsx\")"
   ]
  },
  {
   "cell_type": "code",
   "execution_count": 27,
   "metadata": {},
   "outputs": [
    {
     "data": {
      "text/plain": [
       "<function matplotlib.pyplot.show(*args, **kw)>"
      ]
     },
     "execution_count": 27,
     "metadata": {},
     "output_type": "execute_result"
    },
    {
     "data": {
      "image/png": "[encoded data removed]",
      "text/plain": [
       "<Figure size 2520x1080 with 1 Axes>"
      ]
     },
     "metadata": {
      "needs_background": "light"
     },
     "output_type": "display_data"
    }
   ],
   "source": [
    "import matplotlib.pyplot as plt\n",
    "fig = plt.figure(figsize=(35, 15))\n",
    "ax = fig.add_subplot(111)\n",
    "ax.plot(trainday['saledate'],trainday['money'],'r-')\n",
    "ax.plot(trainday['saledate'],trainday['money'],'bo')\n",
    "plt.xticks(rotation=90)\n",
    "plt.show"
   ]
  },
  {
   "cell_type": "code",
   "execution_count": 28,
   "metadata": {},
   "outputs": [],
   "source": [
    "trainday  = pd.DataFrame(trainday)\n",
    "X = trainday['saledate']\n",
    "X = X.apply(pd.to_datetime)\n",
    "# X = X.values.reshape(-1,1)\n",
    "X = X.map(dt.datetime.toordinal)\n",
    "X = X.values.reshape(-1, 1)"
   ]
  },
  {
   "cell_type": "code",
   "execution_count": 29,
   "metadata": {},
   "outputs": [],
   "source": [
    "y = trainday.iloc[:,-1]\n",
    "# y.head(10)\n",
    "y = y.values.reshape(-1, 1)"
   ]
  },
  {
   "cell_type": "code",
   "execution_count": 30,
   "metadata": {},
   "outputs": [
    {
     "data": {
      "text/plain": [
       "0.00048756632198454497"
      ]
     },
     "execution_count": 30,
     "metadata": {},
     "output_type": "execute_result"
    }
   ],
   "source": [
    "Xtrain,Xtest,Ytrain,Ytest = train_test_split(X,y,test_size=0.3,random_state=320)\n",
    "reg = LinearRegression().fit(Xtrain,Ytrain)\n",
    "reg.score(Xtrain,Ytrain)"
   ]
  },
  {
   "cell_type": "code",
   "execution_count": 31,
   "metadata": {},
   "outputs": [
    {
     "ename": "ValueError",
     "evalue": "x and y must have same first dimension, but have shapes (69, 1) and (9, 1)",
     "output_type": "error",
     "traceback": [
      "\u001b[1;31m---------------------------------------------------------------------------\u001b[0m",
      "\u001b[1;31mValueError\u001b[0m                                Traceback (most recent call last)",
      "\u001b[1;32m<ipython-input-31-60b3f794eff4>\u001b[0m in \u001b[0;36m<module>\u001b[1;34m\u001b[0m\n\u001b[0;32m      1\u001b[0m \u001b[0mfig\u001b[0m \u001b[1;33m=\u001b[0m \u001b[0mplt\u001b[0m\u001b[1;33m.\u001b[0m\u001b[0mfigure\u001b[0m\u001b[1;33m(\u001b[0m\u001b[0mfigsize\u001b[0m\u001b[1;33m=\u001b[0m\u001b[1;33m(\u001b[0m\u001b[1;36m35\u001b[0m\u001b[1;33m,\u001b[0m \u001b[1;36m15\u001b[0m\u001b[1;33m)\u001b[0m\u001b[1;33m)\u001b[0m\u001b[1;33m\u001b[0m\u001b[1;33m\u001b[0m\u001b[0m\n\u001b[0;32m      2\u001b[0m \u001b[0max\u001b[0m \u001b[1;33m=\u001b[0m \u001b[0mfig\u001b[0m\u001b[1;33m.\u001b[0m\u001b[0madd_subplot\u001b[0m\u001b[1;33m(\u001b[0m\u001b[1;36m111\u001b[0m\u001b[1;33m)\u001b[0m\u001b[1;33m\u001b[0m\u001b[1;33m\u001b[0m\u001b[0m\n\u001b[1;32m----> 3\u001b[1;33m \u001b[0max\u001b[0m\u001b[1;33m.\u001b[0m\u001b[0mplot\u001b[0m\u001b[1;33m(\u001b[0m\u001b[0mXtest\u001b[0m\u001b[1;33m,\u001b[0m\u001b[0mY_pre\u001b[0m\u001b[1;33m,\u001b[0m\u001b[1;34m'ro'\u001b[0m\u001b[1;33m)\u001b[0m\u001b[1;33m\u001b[0m\u001b[1;33m\u001b[0m\u001b[0m\n\u001b[0m\u001b[0;32m      4\u001b[0m \u001b[0max\u001b[0m\u001b[1;33m.\u001b[0m\u001b[0mplot\u001b[0m\u001b[1;33m(\u001b[0m\u001b[0mXtest\u001b[0m\u001b[1;33m,\u001b[0m\u001b[0mYtest\u001b[0m\u001b[1;33m,\u001b[0m\u001b[1;34m'bo'\u001b[0m\u001b[1;33m)\u001b[0m\u001b[1;33m\u001b[0m\u001b[1;33m\u001b[0m\u001b[0m\n\u001b[0;32m      5\u001b[0m \u001b[0mplt\u001b[0m\u001b[1;33m.\u001b[0m\u001b[0mxticks\u001b[0m\u001b[1;33m(\u001b[0m\u001b[0mrotation\u001b[0m\u001b[1;33m=\u001b[0m\u001b[1;36m90\u001b[0m\u001b[1;33m)\u001b[0m\u001b[1;33m\u001b[0m\u001b[1;33m\u001b[0m\u001b[0m\n",
      "\u001b[1;32mD:\\anaconda\\lib\\site-packages\\matplotlib\\axes\\_axes.py\u001b[0m in \u001b[0;36mplot\u001b[1;34m(self, scalex, scaley, data, *args, **kwargs)\u001b[0m\n\u001b[0;32m   1663\u001b[0m         \"\"\"\n\u001b[0;32m   1664\u001b[0m         \u001b[0mkwargs\u001b[0m \u001b[1;33m=\u001b[0m \u001b[0mcbook\u001b[0m\u001b[1;33m.\u001b[0m\u001b[0mnormalize_kwargs\u001b[0m\u001b[1;33m(\u001b[0m\u001b[0mkwargs\u001b[0m\u001b[1;33m,\u001b[0m \u001b[0mmlines\u001b[0m\u001b[1;33m.\u001b[0m\u001b[0mLine2D\u001b[0m\u001b[1;33m.\u001b[0m\u001b[0m_alias_map\u001b[0m\u001b[1;33m)\u001b[0m\u001b[1;33m\u001b[0m\u001b[1;33m\u001b[0m\u001b[0m\n\u001b[1;32m-> 1665\u001b[1;33m         \u001b[0mlines\u001b[0m \u001b[1;33m=\u001b[0m \u001b[1;33m[\u001b[0m\u001b[1;33m*\u001b[0m\u001b[0mself\u001b[0m\u001b[1;33m.\u001b[0m\u001b[0m_get_lines\u001b[0m\u001b[1;33m(\u001b[0m\u001b[1;33m*\u001b[0m\u001b[0margs\u001b[0m\u001b[1;33m,\u001b[0m \u001b[0mdata\u001b[0m\u001b[1;33m=\u001b[0m\u001b[0mdata\u001b[0m\u001b[1;33m,\u001b[0m \u001b[1;33m**\u001b[0m\u001b[0mkwargs\u001b[0m\u001b[1;33m)\u001b[0m\u001b[1;33m]\u001b[0m\u001b[1;33m\u001b[0m\u001b[1;33m\u001b[0m\u001b[0m\n\u001b[0m\u001b[0;32m   1666\u001b[0m         \u001b[1;32mfor\u001b[0m \u001b[0mline\u001b[0m \u001b[1;32min\u001b[0m \u001b[0mlines\u001b[0m\u001b[1;33m:\u001b[0m\u001b[1;33m\u001b[0m\u001b[1;33m\u001b[0m\u001b[0m\n\u001b[0;32m   1667\u001b[0m             \u001b[0mself\u001b[0m\u001b[1;33m.\u001b[0m\u001b[0madd_line\u001b[0m\u001b[1;33m(\u001b[0m\u001b[0mline\u001b[0m\u001b[1;33m)\u001b[0m\u001b[1;33m\u001b[0m\u001b[1;33m\u001b[0m\u001b[0m\n",
      "\u001b[1;32mD:\\anaconda\\lib\\site-packages\\matplotlib\\axes\\_base.py\u001b[0m in \u001b[0;36m__call__\u001b[1;34m(self, *args, **kwargs)\u001b[0m\n\u001b[0;32m    223\u001b[0m                 \u001b[0mthis\u001b[0m \u001b[1;33m+=\u001b[0m \u001b[0margs\u001b[0m\u001b[1;33m[\u001b[0m\u001b[1;36m0\u001b[0m\u001b[1;33m]\u001b[0m\u001b[1;33m,\u001b[0m\u001b[1;33m\u001b[0m\u001b[1;33m\u001b[0m\u001b[0m\n\u001b[0;32m    224\u001b[0m                 \u001b[0margs\u001b[0m \u001b[1;33m=\u001b[0m \u001b[0margs\u001b[0m\u001b[1;33m[\u001b[0m\u001b[1;36m1\u001b[0m\u001b[1;33m:\u001b[0m\u001b[1;33m]\u001b[0m\u001b[1;33m\u001b[0m\u001b[1;33m\u001b[0m\u001b[0m\n\u001b[1;32m--> 225\u001b[1;33m             \u001b[1;32myield\u001b[0m \u001b[1;32mfrom\u001b[0m \u001b[0mself\u001b[0m\u001b[1;33m.\u001b[0m\u001b[0m_plot_args\u001b[0m\u001b[1;33m(\u001b[0m\u001b[0mthis\u001b[0m\u001b[1;33m,\u001b[0m \u001b[0mkwargs\u001b[0m\u001b[1;33m)\u001b[0m\u001b[1;33m\u001b[0m\u001b[1;33m\u001b[0m\u001b[0m\n\u001b[0m\u001b[0;32m    226\u001b[0m \u001b[1;33m\u001b[0m\u001b[0m\n\u001b[0;32m    227\u001b[0m     \u001b[1;32mdef\u001b[0m \u001b[0mget_next_color\u001b[0m\u001b[1;33m(\u001b[0m\u001b[0mself\u001b[0m\u001b[1;33m)\u001b[0m\u001b[1;33m:\u001b[0m\u001b[1;33m\u001b[0m\u001b[1;33m\u001b[0m\u001b[0m\n",
      "\u001b[1;32mD:\\anaconda\\lib\\site-packages\\matplotlib\\axes\\_base.py\u001b[0m in \u001b[0;36m_plot_args\u001b[1;34m(self, tup, kwargs)\u001b[0m\n\u001b[0;32m    389\u001b[0m             \u001b[0mx\u001b[0m\u001b[1;33m,\u001b[0m \u001b[0my\u001b[0m \u001b[1;33m=\u001b[0m \u001b[0mindex_of\u001b[0m\u001b[1;33m(\u001b[0m\u001b[0mtup\u001b[0m\u001b[1;33m[\u001b[0m\u001b[1;33m-\u001b[0m\u001b[1;36m1\u001b[0m\u001b[1;33m]\u001b[0m\u001b[1;33m)\u001b[0m\u001b[1;33m\u001b[0m\u001b[1;33m\u001b[0m\u001b[0m\n\u001b[0;32m    390\u001b[0m \u001b[1;33m\u001b[0m\u001b[0m\n\u001b[1;32m--> 391\u001b[1;33m         \u001b[0mx\u001b[0m\u001b[1;33m,\u001b[0m \u001b[0my\u001b[0m \u001b[1;33m=\u001b[0m \u001b[0mself\u001b[0m\u001b[1;33m.\u001b[0m\u001b[0m_xy_from_xy\u001b[0m\u001b[1;33m(\u001b[0m\u001b[0mx\u001b[0m\u001b[1;33m,\u001b[0m \u001b[0my\u001b[0m\u001b[1;33m)\u001b[0m\u001b[1;33m\u001b[0m\u001b[1;33m\u001b[0m\u001b[0m\n\u001b[0m\u001b[0;32m    392\u001b[0m \u001b[1;33m\u001b[0m\u001b[0m\n\u001b[0;32m    393\u001b[0m         \u001b[1;32mif\u001b[0m \u001b[0mself\u001b[0m\u001b[1;33m.\u001b[0m\u001b[0mcommand\u001b[0m \u001b[1;33m==\u001b[0m \u001b[1;34m'plot'\u001b[0m\u001b[1;33m:\u001b[0m\u001b[1;33m\u001b[0m\u001b[1;33m\u001b[0m\u001b[0m\n",
      "\u001b[1;32mD:\\anaconda\\lib\\site-packages\\matplotlib\\axes\\_base.py\u001b[0m in \u001b[0;36m_xy_from_xy\u001b[1;34m(self, x, y)\u001b[0m\n\u001b[0;32m    268\u001b[0m         \u001b[1;32mif\u001b[0m \u001b[0mx\u001b[0m\u001b[1;33m.\u001b[0m\u001b[0mshape\u001b[0m\u001b[1;33m[\u001b[0m\u001b[1;36m0\u001b[0m\u001b[1;33m]\u001b[0m \u001b[1;33m!=\u001b[0m \u001b[0my\u001b[0m\u001b[1;33m.\u001b[0m\u001b[0mshape\u001b[0m\u001b[1;33m[\u001b[0m\u001b[1;36m0\u001b[0m\u001b[1;33m]\u001b[0m\u001b[1;33m:\u001b[0m\u001b[1;33m\u001b[0m\u001b[1;33m\u001b[0m\u001b[0m\n\u001b[0;32m    269\u001b[0m             raise ValueError(\"x and y must have same first dimension, but \"\n\u001b[1;32m--> 270\u001b[1;33m                              \"have shapes {} and {}\".format(x.shape, y.shape))\n\u001b[0m\u001b[0;32m    271\u001b[0m         \u001b[1;32mif\u001b[0m \u001b[0mx\u001b[0m\u001b[1;33m.\u001b[0m\u001b[0mndim\u001b[0m \u001b[1;33m>\u001b[0m \u001b[1;36m2\u001b[0m \u001b[1;32mor\u001b[0m \u001b[0my\u001b[0m\u001b[1;33m.\u001b[0m\u001b[0mndim\u001b[0m \u001b[1;33m>\u001b[0m \u001b[1;36m2\u001b[0m\u001b[1;33m:\u001b[0m\u001b[1;33m\u001b[0m\u001b[1;33m\u001b[0m\u001b[0m\n\u001b[0;32m    272\u001b[0m             raise ValueError(\"x and y can be no greater than 2-D, but have \"\n",
      "\u001b[1;31mValueError\u001b[0m: x and y must have same first dimension, but have shapes (69, 1) and (9, 1)"
     ]
    },
    {
     "data": {
      "image/png": "[encoded data removed]",
      "text/plain": [
       "<Figure size 2520x1080 with 1 Axes>"
      ]
     },
     "metadata": {
      "needs_background": "light"
     },
     "output_type": "display_data"
    }
   ],
   "source": [
    "fig = plt.figure(figsize=(35, 15))\n",
    "ax = fig.add_subplot(111)\n",
    "ax.plot(Xtest,Y_pre,'ro')\n",
    "ax.plot(Xtest,Ytest,'bo')\n",
    "plt.xticks(rotation=90)\n",
    "plt.show"
   ]
  },
  {
   "cell_type": "code",
   "execution_count": null,
   "metadata": {},
   "outputs": [],
   "source": [
    "reg_coef = reg.coef_     #截距\n",
    "reg_intercept = reg.intercept_ #斜率\n",
    "X_test = pd.DataFrame(np.array([\n",
    "   ['2020-07-01'],], dtype='datetime64[ns]'))\n",
    "X_test.columns = [\"Date\"]\n",
    "X_test['Date'] = pd.to_datetime(X_test['Date'])\n",
    "X_test['Date']=X_test['Date'].map(dt.datetime.toordinal)\n",
    "X_test['Date']"
   ]
  },
  {
   "cell_type": "code",
   "execution_count": 136,
   "metadata": {},
   "outputs": [
    {
     "data": {
      "text/plain": [
       "array([[3173.84490794]])"
      ]
     },
     "execution_count": 136,
     "metadata": {},
     "output_type": "execute_result"
    }
   ],
   "source": [
    "prediction = reg_coef*int(X_test['Date'])+reg_intercept\n",
    "prediction"
   ]
  },
  {
   "cell_type": "code",
   "execution_count": 140,
   "metadata": {
    "collapsed": true,
    "jupyter": {
     "outputs_hidden": true
    }
   },
   "outputs": [
    {
     "data": {
      "text/plain": [
       "array([[7.37410000e+05, 5.43773508e+11],\n",
       "       [7.37424000e+05, 5.43794156e+11],\n",
       "       [7.37546000e+05, 5.43974102e+11],\n",
       "       [7.37617000e+05, 5.44078839e+11],\n",
       "       [7.37382000e+05, 5.43732214e+11],\n",
       "       [7.37525000e+05, 5.43943126e+11],\n",
       "       [7.37388000e+05, 5.43741063e+11],\n",
       "       [7.37438000e+05, 5.43814804e+11],\n",
       "       [7.37594000e+05, 5.44044909e+11],\n",
       "       [7.37560000e+05, 5.43994754e+11],\n",
       "       [7.37401000e+05, 5.43760235e+11],\n",
       "       [7.37474000e+05, 5.43867901e+11],\n",
       "       [7.37496000e+05, 5.43900350e+11],\n",
       "       [7.37610000e+05, 5.44068512e+11],\n",
       "       [7.37532000e+05, 5.43953451e+11],\n",
       "       [7.37422000e+05, 5.43791206e+11],\n",
       "       [7.37565000e+05, 5.44002129e+11],\n",
       "       [7.37505000e+05, 5.43913625e+11],\n",
       "       [7.37413000e+05, 5.43777933e+11],\n",
       "       [7.37396000e+05, 5.43752861e+11],\n",
       "       [7.37572000e+05, 5.44012455e+11],\n",
       "       [7.37439000e+05, 5.43816279e+11],\n",
       "       [7.37581000e+05, 5.44025732e+11],\n",
       "       [7.37567000e+05, 5.44005079e+11],\n",
       "       [7.37587000e+05, 5.44034583e+11],\n",
       "       [7.37597000e+05, 5.44049334e+11],\n",
       "       [7.37403000e+05, 5.43763184e+11],\n",
       "       [7.37450000e+05, 5.43832502e+11],\n",
       "       [7.37595000e+05, 5.44046384e+11],\n",
       "       [7.37599000e+05, 5.44052285e+11],\n",
       "       [7.37428000e+05, 5.43800055e+11],\n",
       "       [7.37592000e+05, 5.44041958e+11],\n",
       "       [7.37576000e+05, 5.44018356e+11],\n",
       "       [7.37475000e+05, 5.43869376e+11],\n",
       "       [7.37473000e+05, 5.43866426e+11],\n",
       "       [7.37454000e+05, 5.43838402e+11],\n",
       "       [7.37435000e+05, 5.43810379e+11],\n",
       "       [7.37604000e+05, 5.44059661e+11],\n",
       "       [7.37543000e+05, 5.43969677e+11],\n",
       "       [7.37477000e+05, 5.43872326e+11],\n",
       "       [7.37501000e+05, 5.43907725e+11],\n",
       "       [7.37404000e+05, 5.43764659e+11],\n",
       "       [7.37476000e+05, 5.43870851e+11],\n",
       "       [7.37432000e+05, 5.43805955e+11],\n",
       "       [7.37520000e+05, 5.43935750e+11],\n",
       "       [7.37389000e+05, 5.43742537e+11],\n",
       "       [7.37542000e+05, 5.43968202e+11],\n",
       "       [7.37591000e+05, 5.44040483e+11],\n",
       "       [7.37445000e+05, 5.43825128e+11],\n",
       "       [7.37544000e+05, 5.43971152e+11],\n",
       "       [7.37534000e+05, 5.43956401e+11],\n",
       "       [7.37512000e+05, 5.43923950e+11],\n",
       "       [7.37471000e+05, 5.43863476e+11],\n",
       "       [7.37407000e+05, 5.43769084e+11],\n",
       "       [7.37540000e+05, 5.43965252e+11],\n",
       "       [7.37448000e+05, 5.43829553e+11],\n",
       "       [7.37393000e+05, 5.43748436e+11],\n",
       "       [7.37509000e+05, 5.43919525e+11],\n",
       "       [7.37612000e+05, 5.44071463e+11],\n",
       "       [7.37442000e+05, 5.43820703e+11],\n",
       "       [7.37510000e+05, 5.43921000e+11],\n",
       "       [7.37437000e+05, 5.43813329e+11],\n",
       "       [7.37421000e+05, 5.43789731e+11],\n",
       "       [7.37533000e+05, 5.43954926e+11],\n",
       "       [7.37468000e+05, 5.43859051e+11],\n",
       "       [7.37383000e+05, 5.43733689e+11],\n",
       "       [7.37498000e+05, 5.43903300e+11],\n",
       "       [7.37588000e+05, 5.44036058e+11],\n",
       "       [7.37545000e+05, 5.43972627e+11]])"
      ]
     },
     "execution_count": 140,
     "metadata": {},
     "output_type": "execute_result"
    }
   ],
   "source": [
    "from sklearn.preprocessing import PolynomialFeatures\n",
    "poly = PolynomialFeatures(degree=2,include_bias=False)#添加多项式回归，增加拟合程度\n",
    "Xtrain_poly = poly.fit_transform(Xtrain)#分别对训练集和测试集进行处理\n",
    "Xtest_poly = poly.fit_transform(Xtest)#\n",
    "X_poly = poly.fit_transform(X)"
   ]
  },
  {
   "cell_type": "code",
   "execution_count": 141,
   "metadata": {},
   "outputs": [
    {
     "data": {
      "text/plain": [
       "0.004483623057031316"
      ]
     },
     "execution_count": 141,
     "metadata": {},
     "output_type": "execute_result"
    }
   ],
   "source": [
    "model = LinearRegression(normalize=True).fit(Xtrain_poly,Ytrain)\n",
    "j = model.score(Xtest_poly,Ytest)"
   ]
  },
  {
   "cell_type": "code",
   "execution_count": 142,
   "metadata": {},
   "outputs": [
    {
     "data": {
      "text/plain": [
       "array([[ 1820.37796021],\n",
       "       [ 2951.88571167],\n",
       "       [ 4679.13140869],\n",
       "       [-1032.57980347],\n",
       "       [-1019.08706665],\n",
       "       [ 5421.48648071],\n",
       "       [ -345.92675781],\n",
       "       [ 3891.24362183],\n",
       "       [ 1358.84957886],\n",
       "       [ 3944.04067993],\n",
       "       [  991.51324463],\n",
       "       [ 5424.41470337],\n",
       "       [ 5735.88522339],\n",
       "       [ -249.85351562],\n",
       "       [ 5222.07223511],\n",
       "       [ 2802.00604248],\n",
       "       [ 3634.94128418],\n",
       "       [ 5726.54525757],\n",
       "       [ 2079.01980591],\n",
       "       [  496.72036743],\n",
       "       [ 3161.02728271],\n",
       "       [ 3950.98791504],\n",
       "       [ 2481.12362671],\n",
       "       [ 3504.43911743],\n",
       "       [ 1983.73846436],\n",
       "       [ 1076.33465576],\n",
       "       [ 1182.56790161],\n",
       "       [ 4543.47195435],\n",
       "       [ 1265.65829468],\n",
       "       [  883.08966064],\n",
       "       [ 3239.88082886],\n",
       "       [ 1542.29104614],\n",
       "       [ 2868.65142822],\n",
       "       [ 5448.86621094],\n",
       "       [ 5398.98287964],\n",
       "       [ 4729.51004028],\n",
       "       [ 3706.12854004],\n",
       "       [  382.82080078],\n",
       "       [ 4811.6517334 ],\n",
       "       [ 5494.82809448],\n",
       "       [ 5740.49993896],\n",
       "       [ 1276.62466431],\n",
       "       [ 5472.33734131],\n",
       "       [ 3512.19018555],\n",
       "       [ 5534.5145874 ],\n",
       "       [ -237.16464233],\n",
       "       [ 4853.86447144],\n",
       "       [ 1632.54119873],\n",
       "       [ 4288.86636353],\n",
       "       [ 4768.45861816],\n",
       "       [ 5156.27355957],\n",
       "       [ 5664.38088989],\n",
       "       [ 5345.17807007],\n",
       "       [ 1552.91293335],\n",
       "       [ 4935.34890747],\n",
       "       [ 4444.5708313 ],\n",
       "       [  188.0803833 ],\n",
       "       [ 5696.90493774],\n",
       "       [ -468.58776855],\n",
       "       [ 4124.33877563],\n",
       "       [ 5687.04394531],\n",
       "       [ 3830.51895142],\n",
       "       [ 2725.59567261],\n",
       "       [ 5189.66308594],\n",
       "       [ 5257.11825562],\n",
       "       [ -904.44281006],\n",
       "       [ 5740.67214966],\n",
       "       [ 1897.40969849],\n",
       "       [ 4724.28515625]])"
      ]
     },
     "execution_count": 142,
     "metadata": {},
     "output_type": "execute_result"
    }
   ],
   "source": [
    "y_pre = model.predict(Xtest_poly)"
   ]
  },
  {
   "cell_type": "code",
   "execution_count": 146,
   "metadata": {},
   "outputs": [
    {
     "data": {
      "text/plain": [
       "<function matplotlib.pyplot.show(*args, **kw)>"
      ]
     },
     "execution_count": 146,
     "metadata": {},
     "output_type": "execute_result"
    },
    {
     "data": {
      "image/png": "[encoded data removed]",
      "text/plain": [
       "<Figure size 3240x1080 with 1 Axes>"
      ]
     },
     "metadata": {
      "needs_background": "light"
     },
     "output_type": "display_data"
    }
   ],
   "source": [
    "fig = plt.figure(figsize=(45, 15))\n",
    "ax = fig.add_subplot(111)\n",
    "ax.plot(Xtest,y_pre,'ro')\n",
    "ax.plot(Xtest,Ytest,'bo')\n",
    "plt.xticks(rotation=90)\n",
    "plt.show"
   ]
  },
  {
   "cell_type": "code",
   "execution_count": 147,
   "metadata": {},
   "outputs": [
    {
     "data": {
      "text/plain": [
       "0.004483623057031316"
      ]
     },
     "execution_count": 147,
     "metadata": {},
     "output_type": "execute_result"
    }
   ],
   "source": [
    "from sklearn.metrics import r2_score\n",
    "r2_score(Ytest,y_pre)"
   ]
  },
  {
   "cell_type": "code",
   "execution_count": 150,
   "metadata": {},
   "outputs": [
    {
     "data": {
      "text/plain": [
       "array([[7.19163000e+05, 5.17195421e+11]])"
      ]
     },
     "execution_count": 150,
     "metadata": {},
     "output_type": "execute_result"
    }
   ],
   "source": [
    "X_test = pd.DataFrame(np.array([\n",
    "   ['2020-07-01'],], dtype='datetime64[ns]'))\n",
    "X_test.columns = [\"Date\"]\n",
    "X_test['Date'] = pd.to_datetime(X_test['Date'])\n",
    "X_test['Date']=X_test['Date'].map(dt.datetime.toordinal)\n",
    "X_test['Date']\n",
    "X_input = X_test['Date'].apply(pd.to_datetime)\n",
    "# X = X.values.reshape(-1,1)\n",
    "X_input = X_input.map(dt.datetime.toordinal)\n",
    "X_input =X_input.values.reshape(-1, 1)\n",
    "X_input_poly = poly.fit_transform(X_input.reshape(-1,1))\n",
    "X_input_poly"
   ]
  },
  {
   "cell_type": "code",
   "execution_count": 152,
   "metadata": {},
   "outputs": [
    {
     "data": {
      "text/plain": [
       "array([[-1.64804456e+08]])"
      ]
     },
     "execution_count": 152,
     "metadata": {},
     "output_type": "execute_result"
    }
   ],
   "source": [
    "y_predict = model.predict(X_input_poly)\n",
    "y_predict"
   ]
  },
  {
   "cell_type": "code",
   "execution_count": null,
   "metadata": {},
   "outputs": [],
   "source": []
  }
 ],
 "metadata": {
  "kernelspec": {
   "display_name": "Python 3",
   "language": "python",
   "name": "python3"
  },
  "language_info": {
   "codemirror_mode": {
    "name": "ipython",
    "version": 3
   },
   "file_extension": ".py",
   "mimetype": "text/x-python",
   "name": "python",
   "nbconvert_exporter": "python",
   "pygments_lexer": "ipython3",
   "version": "3.7.6"
  }
 },
 "nbformat": 4,
 "nbformat_minor": 4
}
