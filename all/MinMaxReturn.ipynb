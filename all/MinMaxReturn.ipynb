{
 "cells": [
  {
   "cell_type": "code",
   "execution_count": 53,
   "metadata": {},
   "outputs": [],
   "source": [
    "import pandas as pd\n",
    "import numpy as np\n",
    "import datetime as dt\n",
    "from sklearn.model_selection import train_test_split\n",
    "from sklearn.model_selection import cross_val_score\n",
    "from sklearn.linear_model import LinearRegression \n",
    "from sklearn.preprocessing import MinMaxScaler\n",
    "from sklearn.preprocessing import StandardScaler\n",
    "import matplotlib.pyplot as plt"
   ]
  },
  {
   "cell_type": "code",
   "execution_count": 54,
   "metadata": {},
   "outputs": [],
   "source": [
    "train = pd.read_excel(r\"G:\\traindata\\rxdata\\rx_monthsale.xlsx\")"
   ]
  },
  {
   "cell_type": "code",
   "execution_count": 55,
   "metadata": {},
   "outputs": [
    {
     "data": {
      "text/plain": [
       "array([[2.00790205e+08],\n",
       "       [7.79418931e+07],\n",
       "       [1.67829894e+08],\n",
       "       [1.42025210e+08],\n",
       "       [2.15992239e+08],\n",
       "       [1.87083979e+08],\n",
       "       [1.91186605e+08],\n",
       "       [2.19246672e+08],\n",
       "       [2.22923424e+08],\n",
       "       [2.27973832e+08],\n",
       "       [2.81482146e+08],\n",
       "       [2.26823412e+08],\n",
       "       [2.97554480e+08],\n",
       "       [1.40997438e+08],\n",
       "       [3.22127121e+08],\n",
       "       [2.11058314e+08],\n",
       "       [1.93471693e+08],\n",
       "       [2.60580823e+08],\n",
       "       [2.05552688e+08],\n",
       "       [2.44313645e+08],\n",
       "       [2.76904498e+08],\n",
       "       [2.14071061e+08],\n",
       "       [3.22135162e+08],\n",
       "       [3.12435070e+08],\n",
       "       [1.65635393e+08],\n",
       "       [1.66875324e+08],\n",
       "       [2.34665377e+08],\n",
       "       [1.97994950e+08]])"
      ]
     },
     "execution_count": 55,
     "metadata": {},
     "output_type": "execute_result"
    }
   ],
   "source": [
    "train  = pd.DataFrame(train)#设定Xy及数据处理\n",
    "X = train['months']\n",
    "X = X.apply(pd.to_datetime)\n",
    "X = X.map(dt.datetime.toordinal)\n",
    "X = X.values.reshape(-1, 1)\n",
    "y = train.iloc[:,-1]\n",
    "y = y.values.reshape(-1, 1)\n",
    "y\n"
   ]
  },
  {
   "cell_type": "code",
   "execution_count": 56,
   "metadata": {},
   "outputs": [],
   "source": [
    "# scaler = MinMaxScaler() #实例化\n",
    "# scaler = scaler.fit(y) #fit，在这里本质是生成min(x)和max(x)\n",
    "# result = scaler.transform(y) #通过接口导出结果\n",
    "# result\n",
    "# y = result\n",
    "# scaler = StandardScaler()#此处对数据进行标准化处理，使其符合\n",
    "# result = scaler.fit_transform(y)\n",
    "# result \n",
    "# y = result\n",
    "# y"
   ]
  },
  {
   "cell_type": "code",
   "execution_count": 57,
   "metadata": {},
   "outputs": [],
   "source": [
    "Xtrain,Xtest,Ytrain,Ytest = train_test_split(X,y,test_size=0.3,random_state=445)#划分训练集和测试集"
   ]
  },
  {
   "cell_type": "code",
   "execution_count": 58,
   "metadata": {},
   "outputs": [],
   "source": [
    "from sklearn.preprocessing import PolynomialFeatures\n",
    "poly = PolynomialFeatures(degree=3,include_bias=False)#添加多项式回归，增加拟合程度，不生成与截距相乘的X0\n",
    "Xtrain_poly = poly.fit_transform(Xtrain)#分别对训练集和测试集进行处理\n",
    "Xtest_poly = poly.fit_transform(Xtest)#\n",
    "X_poly = poly.fit_transform(X)"
   ]
  },
  {
   "cell_type": "code",
   "execution_count": 59,
   "metadata": {},
   "outputs": [
    {
     "data": {
      "text/plain": [
       "-0.2838231404546323"
      ]
     },
     "execution_count": 59,
     "metadata": {},
     "output_type": "execute_result"
    }
   ],
   "source": [
    "model = LinearRegression(normalize=True).fit(Xtrain_poly,Ytrain)\n",
    "j = model.score(Xtest_poly,Ytest)\n",
    "j"
   ]
  },
  {
   "cell_type": "code",
   "execution_count": 60,
   "metadata": {},
   "outputs": [],
   "source": [
    "y_pre = model.predict(Xtest_poly)\n",
    "Y_pre = model.predict(X_poly)"
   ]
  },
  {
   "cell_type": "code",
   "execution_count": 61,
   "metadata": {},
   "outputs": [
    {
     "data": {
      "text/plain": [
       "array([[7.37607000e+05, 5.44064086e+11, 4.01305479e+17],\n",
       "       [7.37614000e+05, 5.44074413e+11, 4.01316904e+17],\n",
       "       [7.37638000e+05, 5.44109819e+11, 4.01356079e+17],\n",
       "       [7.37669000e+05, 5.44155554e+11, 4.01406683e+17],\n",
       "       [7.37699000e+05, 5.44199815e+11, 4.01455659e+17],\n",
       "       [7.37730000e+05, 5.44245553e+11, 4.01506272e+17],\n",
       "       [7.37760000e+05, 5.44289818e+11, 4.01555256e+17]])"
      ]
     },
     "execution_count": 61,
     "metadata": {},
     "output_type": "execute_result"
    }
   ],
   "source": [
    "test= pd.read_excel(r\"G:\\traindata\\rxdata\\rx_test.xlsx\")\n",
    "test =pd.DataFrame(test)\n",
    "pre_month = test['months']\n",
    "pre_month = pre_month.apply(pd.to_datetime)\n",
    "pre_month = pre_month.map(dt.datetime.toordinal)\n",
    "pre_month = pre_month.values.reshape(-1, 1)\n",
    "pre_month\n",
    "pre_month_poly = poly.fit_transform(pre_month.reshape(-1,1))\n",
    "pre_month_poly"
   ]
  },
  {
   "cell_type": "code",
   "execution_count": 62,
   "metadata": {},
   "outputs": [
    {
     "data": {
      "text/plain": [
       "array([[1.38369131e+16],\n",
       "       [1.37891051e+16],\n",
       "       [1.36119723e+16],\n",
       "       [1.33524401e+16],\n",
       "       [1.30676574e+16],\n",
       "       [1.27379304e+16],\n",
       "       [1.23838570e+16]])"
      ]
     },
     "execution_count": 62,
     "metadata": {},
     "output_type": "execute_result"
    }
   ],
   "source": [
    "y_predict = model.predict(pre_month_poly)\n",
    "y_predict = y_predict.reshape(-1, 1)\n",
    "y_predict = scaler.inverse_transform(y_predict)\n",
    "y_predict"
   ]
  },
  {
   "cell_type": "code",
   "execution_count": 63,
   "metadata": {},
   "outputs": [],
   "source": [
    "reg = LinearRegression().fit(Xtrain,Ytrain)"
   ]
  },
  {
   "cell_type": "code",
   "execution_count": null,
   "metadata": {},
   "outputs": [],
   "source": []
  },
  {
   "cell_type": "code",
   "execution_count": null,
   "metadata": {},
   "outputs": [],
   "source": []
  }
 ],
 "metadata": {
  "kernelspec": {
   "display_name": "Python 3",
   "language": "python",
   "name": "python3"
  },
  "language_info": {
   "codemirror_mode": {
    "name": "ipython",
    "version": 3
   },
   "file_extension": ".py",
   "mimetype": "text/x-python",
   "name": "python",
   "nbconvert_exporter": "python",
   "pygments_lexer": "ipython3",
   "version": "3.7.6"
  }
 },
 "nbformat": 4,
 "nbformat_minor": 4
}
